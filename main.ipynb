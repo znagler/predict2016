{
 "cells": [
  {
   "cell_type": "markdown",
   "metadata": {},
   "source": [
    "<h1>Campaign Donation Predictor</h1>\n",
    "<p>This notebook is part one of a mini end-to-end machine learning web application.  The question at hand is whether simple attributes like name and occupation can reveal which 2016 presidential candidate you prefer.  This is the structure:<p>\n",
    "<ol>\n",
    "<li> <strong>The notebook (you are here)</strong>: This is where the model is trained using Federal Election Commission data.</li>\n",
    "<li> <strong>The API</strong>: Using the trained model from part 1 (in Pickle form), a Flask API serves predictions to the front-end.</li>\n",
    "<li><strong>The web app</strong>: Using the prediction from the API, the app visualizes the results.</li>\n"
   ]
  },
  {
   "cell_type": "code",
   "execution_count": 3,
   "metadata": {
    "collapsed": false
   },
   "outputs": [],
   "source": [
    "# analysis\n",
    "import pandas as pd\n",
    "import numpy as np\n",
    "from sklearn.linear_model import LinearRegression\n",
    "from sklearn.cross_validation import train_test_split\n",
    "from sklearn import metrics\n",
    "from sklearn.preprocessing import LabelEncoder\n",
    "from sklearn.ensemble import RandomForestClassifier\n",
    "from sklearn.cross_validation import cross_val_score\n",
    "from sklearn.neighbors import KNeighborsClassifier\n",
    "from sklearn import grid_search\n",
    "from sklearn.grid_search import GridSearchCV\n",
    "from sklearn.dummy import DummyClassifier\n",
    "from sklearn.metrics import accuracy_score\n",
    "import statsmodels.formula.api as smf\n",
    "from sklearn.metrics import confusion_matrix\n",
    "\n",
    "# visualization\n",
    "import seaborn as sns\n",
    "import matplotlib.pyplot as plt\n",
    "%matplotlib inline\n",
    "\n",
    "# pickle\n",
    "import pickle"
   ]
  },
  {
   "cell_type": "code",
   "execution_count": 4,
   "metadata": {
    "collapsed": false
   },
   "outputs": [
    {
     "name": "stderr",
     "output_type": "stream",
     "text": [
      "/Users/katethompson/anaconda/lib/python2.7/site-packages/pandas/io/parsers.py:1170: DtypeWarning: Columns (6) have mixed types. Specify dtype option on import or set low_memory=False.\n",
      "  data = self._reader.read(nrows)\n"
     ]
    },
    {
     "data": {
      "text/html": [
       "<div>\n",
       "<table border=\"1\" class=\"dataframe\">\n",
       "  <thead>\n",
       "    <tr style=\"text-align: right;\">\n",
       "      <th></th>\n",
       "      <th>d_id</th>\n",
       "      <th>cand_id</th>\n",
       "      <th>cand_nm</th>\n",
       "      <th>contbr_nm</th>\n",
       "      <th>contbr_city</th>\n",
       "      <th>contbr_st</th>\n",
       "      <th>contbr_zip</th>\n",
       "      <th>contbr_emp</th>\n",
       "      <th>contbr_occ</th>\n",
       "      <th>contbr_receipt_amt</th>\n",
       "      <th>contbr_contb_receipt_dt</th>\n",
       "      <th>receipt_desc</th>\n",
       "      <th>memo_cd</th>\n",
       "      <th>memo_text</th>\n",
       "      <th>form_tp</th>\n",
       "      <th>file_num</th>\n",
       "      <th>tran_ud</th>\n",
       "      <th>election</th>\n",
       "      <th>empty</th>\n",
       "    </tr>\n",
       "  </thead>\n",
       "  <tbody>\n",
       "    <tr>\n",
       "      <th>0</th>\n",
       "      <td>C00458844</td>\n",
       "      <td>P60006723</td>\n",
       "      <td>Rubio, Marco</td>\n",
       "      <td>HEFFERNAN, MICHAEL</td>\n",
       "      <td>APO</td>\n",
       "      <td>AE</td>\n",
       "      <td>9096</td>\n",
       "      <td>RETIRED</td>\n",
       "      <td>RETIRED</td>\n",
       "      <td>225</td>\n",
       "      <td>29-OCT-15</td>\n",
       "      <td>NaN</td>\n",
       "      <td>NaN</td>\n",
       "      <td>NaN</td>\n",
       "      <td>SA17A</td>\n",
       "      <td>1047126</td>\n",
       "      <td>SA17.863181</td>\n",
       "      <td>P2016</td>\n",
       "      <td>NaN</td>\n",
       "    </tr>\n",
       "    <tr>\n",
       "      <th>1</th>\n",
       "      <td>C00458844</td>\n",
       "      <td>P60006723</td>\n",
       "      <td>Rubio, Marco</td>\n",
       "      <td>HEFFERNAN, MICHAEL</td>\n",
       "      <td>APO</td>\n",
       "      <td>AE</td>\n",
       "      <td>90960009</td>\n",
       "      <td>INFORMATION REQUESTED PER BEST EFFORTS</td>\n",
       "      <td>INFORMATION REQUESTED PER BEST EFFORTS</td>\n",
       "      <td>210</td>\n",
       "      <td>27-JUN-15</td>\n",
       "      <td>NaN</td>\n",
       "      <td>NaN</td>\n",
       "      <td>NaN</td>\n",
       "      <td>SA17A</td>\n",
       "      <td>1029436</td>\n",
       "      <td>SA17.796904</td>\n",
       "      <td>P2016</td>\n",
       "      <td>NaN</td>\n",
       "    </tr>\n",
       "    <tr>\n",
       "      <th>2</th>\n",
       "      <td>C00458844</td>\n",
       "      <td>P60006723</td>\n",
       "      <td>Rubio, Marco</td>\n",
       "      <td>DOHERTY, THERESA</td>\n",
       "      <td>APO</td>\n",
       "      <td>AE</td>\n",
       "      <td>97520002</td>\n",
       "      <td>DODEA/DS</td>\n",
       "      <td>TEACHER</td>\n",
       "      <td>500</td>\n",
       "      <td>26-JUN-15</td>\n",
       "      <td>NaN</td>\n",
       "      <td>NaN</td>\n",
       "      <td>NaN</td>\n",
       "      <td>SA17A</td>\n",
       "      <td>1029436</td>\n",
       "      <td>SA17.769700</td>\n",
       "      <td>P2016</td>\n",
       "      <td>NaN</td>\n",
       "    </tr>\n",
       "    <tr>\n",
       "      <th>3</th>\n",
       "      <td>C00458844</td>\n",
       "      <td>P60006723</td>\n",
       "      <td>Rubio, Marco</td>\n",
       "      <td>KIBBLE, KUMAR</td>\n",
       "      <td>DPO</td>\n",
       "      <td>AE</td>\n",
       "      <td>92131903</td>\n",
       "      <td>U.S. DEPARTMENT OF HOMELAND SECURITY</td>\n",
       "      <td>LAW ENFORCEMENT</td>\n",
       "      <td>500</td>\n",
       "      <td>27-AUG-15</td>\n",
       "      <td>NaN</td>\n",
       "      <td>NaN</td>\n",
       "      <td>NaN</td>\n",
       "      <td>SA17A</td>\n",
       "      <td>1031526</td>\n",
       "      <td>SA17.813360</td>\n",
       "      <td>P2016</td>\n",
       "      <td>NaN</td>\n",
       "    </tr>\n",
       "    <tr>\n",
       "      <th>4</th>\n",
       "      <td>C00458844</td>\n",
       "      <td>P60006723</td>\n",
       "      <td>Rubio, Marco</td>\n",
       "      <td>VERHAGEN, JOSH</td>\n",
       "      <td>NENANA</td>\n",
       "      <td>AK</td>\n",
       "      <td>997600113</td>\n",
       "      <td>U.B.I</td>\n",
       "      <td>CARPENTER</td>\n",
       "      <td>25</td>\n",
       "      <td>18-NOV-15</td>\n",
       "      <td>NaN</td>\n",
       "      <td>NaN</td>\n",
       "      <td>NaN</td>\n",
       "      <td>SA17A</td>\n",
       "      <td>1047126</td>\n",
       "      <td>SA17.879914</td>\n",
       "      <td>P2016</td>\n",
       "      <td>NaN</td>\n",
       "    </tr>\n",
       "  </tbody>\n",
       "</table>\n",
       "</div>"
      ],
      "text/plain": [
       "        d_id    cand_id       cand_nm           contbr_nm contbr_city  \\\n",
       "0  C00458844  P60006723  Rubio, Marco  HEFFERNAN, MICHAEL         APO   \n",
       "1  C00458844  P60006723  Rubio, Marco  HEFFERNAN, MICHAEL         APO   \n",
       "2  C00458844  P60006723  Rubio, Marco    DOHERTY, THERESA         APO   \n",
       "3  C00458844  P60006723  Rubio, Marco       KIBBLE, KUMAR         DPO   \n",
       "4  C00458844  P60006723  Rubio, Marco      VERHAGEN, JOSH      NENANA   \n",
       "\n",
       "  contbr_st contbr_zip                              contbr_emp  \\\n",
       "0        AE       9096                                 RETIRED   \n",
       "1        AE   90960009  INFORMATION REQUESTED PER BEST EFFORTS   \n",
       "2        AE   97520002                                DODEA/DS   \n",
       "3        AE   92131903    U.S. DEPARTMENT OF HOMELAND SECURITY   \n",
       "4        AK  997600113                                   U.B.I   \n",
       "\n",
       "                               contbr_occ  contbr_receipt_amt  \\\n",
       "0                                 RETIRED                 225   \n",
       "1  INFORMATION REQUESTED PER BEST EFFORTS                 210   \n",
       "2                                 TEACHER                 500   \n",
       "3                         LAW ENFORCEMENT                 500   \n",
       "4                               CARPENTER                  25   \n",
       "\n",
       "  contbr_contb_receipt_dt receipt_desc memo_cd memo_text form_tp  file_num  \\\n",
       "0               29-OCT-15          NaN     NaN       NaN   SA17A   1047126   \n",
       "1               27-JUN-15          NaN     NaN       NaN   SA17A   1029436   \n",
       "2               26-JUN-15          NaN     NaN       NaN   SA17A   1029436   \n",
       "3               27-AUG-15          NaN     NaN       NaN   SA17A   1031526   \n",
       "4               18-NOV-15          NaN     NaN       NaN   SA17A   1047126   \n",
       "\n",
       "       tran_ud election  empty  \n",
       "0  SA17.863181    P2016    NaN  \n",
       "1  SA17.796904    P2016    NaN  \n",
       "2  SA17.769700    P2016    NaN  \n",
       "3  SA17.813360    P2016    NaN  \n",
       "4  SA17.879914    P2016    NaN  "
      ]
     },
     "execution_count": 4,
     "metadata": {},
     "output_type": "execute_result"
    }
   ],
   "source": [
    "cols = [\"d_id\",\n",
    "        \"cand_id\",\n",
    "        \"cand_nm\", #want this (2)\n",
    "        \"contbr_nm\", #want this (3)\n",
    "        \"contbr_city\", \n",
    "        \"contbr_st\", #want this (5)\n",
    "        \"contbr_zip\", #want this (6)\n",
    "        \"contbr_emp\", #want this (7)\n",
    "        \"contbr_occ\", #want this (8)\n",
    "        \"contbr_receipt_amt\", #want this (9)\n",
    "        \"contbr_contb_receipt_dt\", #want this (10)\n",
    "        \"receipt_desc\", \n",
    "        \"memo_cd\",\n",
    "        \"memo_text\",\n",
    "        \"form_tp\",\n",
    "        \"file_num\",\n",
    "        \"tran_ud\",\n",
    "        \"election\",\n",
    "        \"empty\"\n",
    "       ]\n",
    "df =  pd.read_csv('fec.csv',names=cols,skiprows=[0])\n",
    "df.head()"
   ]
  },
  {
   "cell_type": "code",
   "execution_count": 5,
   "metadata": {
    "collapsed": false
   },
   "outputs": [
    {
     "data": {
      "text/html": [
       "<div>\n",
       "<table border=\"1\" class=\"dataframe\">\n",
       "  <thead>\n",
       "    <tr style=\"text-align: right;\">\n",
       "      <th></th>\n",
       "      <th>cand_nm</th>\n",
       "      <th>contbr_nm</th>\n",
       "      <th>contbr_st</th>\n",
       "      <th>contbr_occ</th>\n",
       "      <th>contbr_receipt_amt</th>\n",
       "      <th>contbr_contb_receipt_dt</th>\n",
       "    </tr>\n",
       "  </thead>\n",
       "  <tbody>\n",
       "    <tr>\n",
       "      <th>0</th>\n",
       "      <td>Rubio, Marco</td>\n",
       "      <td>HEFFERNAN, MICHAEL</td>\n",
       "      <td>AE</td>\n",
       "      <td>RETIRED</td>\n",
       "      <td>225</td>\n",
       "      <td>29-OCT-15</td>\n",
       "    </tr>\n",
       "    <tr>\n",
       "      <th>1</th>\n",
       "      <td>Rubio, Marco</td>\n",
       "      <td>HEFFERNAN, MICHAEL</td>\n",
       "      <td>AE</td>\n",
       "      <td>INFORMATION REQUESTED PER BEST EFFORTS</td>\n",
       "      <td>210</td>\n",
       "      <td>27-JUN-15</td>\n",
       "    </tr>\n",
       "    <tr>\n",
       "      <th>2</th>\n",
       "      <td>Rubio, Marco</td>\n",
       "      <td>DOHERTY, THERESA</td>\n",
       "      <td>AE</td>\n",
       "      <td>TEACHER</td>\n",
       "      <td>500</td>\n",
       "      <td>26-JUN-15</td>\n",
       "    </tr>\n",
       "    <tr>\n",
       "      <th>3</th>\n",
       "      <td>Rubio, Marco</td>\n",
       "      <td>KIBBLE, KUMAR</td>\n",
       "      <td>AE</td>\n",
       "      <td>LAW ENFORCEMENT</td>\n",
       "      <td>500</td>\n",
       "      <td>27-AUG-15</td>\n",
       "    </tr>\n",
       "    <tr>\n",
       "      <th>4</th>\n",
       "      <td>Rubio, Marco</td>\n",
       "      <td>VERHAGEN, JOSH</td>\n",
       "      <td>AK</td>\n",
       "      <td>CARPENTER</td>\n",
       "      <td>25</td>\n",
       "      <td>18-NOV-15</td>\n",
       "    </tr>\n",
       "  </tbody>\n",
       "</table>\n",
       "</div>"
      ],
      "text/plain": [
       "        cand_nm           contbr_nm contbr_st  \\\n",
       "0  Rubio, Marco  HEFFERNAN, MICHAEL        AE   \n",
       "1  Rubio, Marco  HEFFERNAN, MICHAEL        AE   \n",
       "2  Rubio, Marco    DOHERTY, THERESA        AE   \n",
       "3  Rubio, Marco       KIBBLE, KUMAR        AE   \n",
       "4  Rubio, Marco      VERHAGEN, JOSH        AK   \n",
       "\n",
       "                               contbr_occ  contbr_receipt_amt  \\\n",
       "0                                 RETIRED                 225   \n",
       "1  INFORMATION REQUESTED PER BEST EFFORTS                 210   \n",
       "2                                 TEACHER                 500   \n",
       "3                         LAW ENFORCEMENT                 500   \n",
       "4                               CARPENTER                  25   \n",
       "\n",
       "  contbr_contb_receipt_dt  \n",
       "0               29-OCT-15  \n",
       "1               27-JUN-15  \n",
       "2               26-JUN-15  \n",
       "3               27-AUG-15  \n",
       "4               18-NOV-15  "
      ]
     },
     "execution_count": 5,
     "metadata": {},
     "output_type": "execute_result"
    }
   ],
   "source": [
    "# Select only relevant columns\n",
    "df = df.ix[:,[2,3, 5,8,9,10]]\n",
    "df.head()"
   ]
  },
  {
   "cell_type": "code",
   "execution_count": 6,
   "metadata": {
    "collapsed": false
   },
   "outputs": [
    {
     "name": "stdout",
     "output_type": "stream",
     "text": [
      "Sanders, Bernard             0.251624\n",
      "Clinton, Hillary Rodham      0.197608\n",
      "Carson, Benjamin S.          0.185404\n",
      "Cruz, Rafael Edward 'Ted'    0.185233\n",
      "Rubio, Marco                 0.054251\n",
      "Paul, Rand                   0.029563\n",
      "Bush, Jeb                    0.025788\n",
      "Fiorina, Carly               0.025692\n",
      "Walker, Scott                0.007105\n",
      "Kasich, John R.              0.006063\n",
      "Huckabee, Mike               0.005482\n",
      "Trump, Donald J.             0.005188\n",
      "Christie, Christopher J.     0.005010\n",
      "O'Malley, Martin Joseph      0.004979\n",
      "Graham, Lindsey O.           0.004447\n",
      "Lessig, Lawrence             0.001509\n",
      "Santorum, Richard J.         0.001505\n",
      "Perry, James R. (Rick)       0.001023\n",
      "Webb, James Henry Jr.        0.000877\n",
      "Jindal, Bobby                0.000862\n",
      "Stein, Jill                  0.000407\n",
      "Pataki, George E.            0.000381\n",
      "dtype: float64\n"
     ]
    },
    {
     "data": {
      "image/png": "[encoded data removed]",
      "text/plain": [
       "<matplotlib.figure.Figure at 0x122410e50>"
      ]
     },
     "metadata": {},
     "output_type": "display_data"
    }
   ],
   "source": [
    "# Explore Top Candidates\n",
    "print df.cand_nm.value_counts(normalize=True)\n",
    "\n",
    "plt.figure(figsize=(20,5))\n",
    "OX = df.cand_nm.apply(lambda x: x.split(\",\")[0]).value_counts().index\n",
    "\n",
    "OY = df.cand_nm.value_counts()\n",
    "width = .35\n",
    "ind = np.arange(len(OY))\n",
    "plt.bar(ind, OY)\n",
    "plt.xticks(ind + width / 2, OX)\n",
    "\n",
    "\n",
    "plt.show()"
   ]
  },
  {
   "cell_type": "code",
   "execution_count": 7,
   "metadata": {
    "collapsed": false
   },
   "outputs": [
    {
     "data": {
      "text/plain": [
       "<matplotlib.axes._subplots.AxesSubplot at 0x1180dbd90>"
      ]
     },
     "execution_count": 7,
     "metadata": {},
     "output_type": "execute_result"
    },
    {
     "data": {
      "image/png": "[encoded data removed]",
      "text/plain": [
       "<matplotlib.figure.Figure at 0x122436950>"
      ]
     },
     "metadata": {},
     "output_type": "display_data"
    }
   ],
   "source": [
    "# Explore contribution Sizes\n",
    "\n",
    "df = df[(df.contbr_receipt_amt > -1000) & (df.contbr_receipt_amt < 3000)] # Remove negative (?) contributions\n",
    "df.contbr_receipt_amt.plot(kind='hist', alpha=1,bins=40,figsize=(10,5))"
   ]
  },
  {
   "cell_type": "code",
   "execution_count": 8,
   "metadata": {
    "collapsed": true
   },
   "outputs": [],
   "source": [
    "# Remove strange contribution sizes and states\n",
    "df = df[(df.contbr_receipt_amt > 0) & (df.contbr_receipt_amt < 2600)]\n",
    "states = [\"AL\",\"AK\",\"AZ\",\"AR\",\"CA\",\"CO\",\"CT\",\"DE\",\"FL\",\"GA\",\"HI\",\"ID\",\"IL\",\"IN\",\"IA\",\"KS\",\"KY\",\"LA\",\"ME\",\"MD\",\"MA\",\"MI\",\"MN\",\"MS\",\"MO\",\"MT\",\"NE\",\"NV\",\"NH\",\"NJ\",\"NM\",\"NY\",\"NC\",\"ND\",\"OH\",\"OK\",\"OR\",\"PA\",\"RI\",\"SC\",\"SD\",\"TN\",\"TX\",\"UT\",\"VT\",\"VA\",\"WA\",\"WV\",\"WI\",\"WY\"]\n",
    "df = df[df.contbr_st.isin(states)]\n",
    "\n"
   ]
  },
  {
   "cell_type": "code",
   "execution_count": 9,
   "metadata": {
    "collapsed": false
   },
   "outputs": [
    {
     "data": {
      "image/png": "[encoded data removed]",
      "text/plain": [
       "<matplotlib.figure.Figure at 0x11a3cd7d0>"
      ]
     },
     "metadata": {},
     "output_type": "display_data"
    }
   ],
   "source": [
    "# Explore Top States\n",
    "plt.figure(figsize=(20,5))\n",
    "OX = df.contbr_st.value_counts().index\n",
    "\n",
    "OY = df.contbr_st.value_counts()\n",
    "width = .35\n",
    "ind = np.arange(len(OY))\n",
    "plt.bar(ind, OY)\n",
    "plt.xticks(ind + width / 2, OX)\n",
    "\n",
    "\n",
    "plt.show()\n"
   ]
  },
  {
   "cell_type": "code",
   "execution_count": 10,
   "metadata": {
    "collapsed": false
   },
   "outputs": [],
   "source": [
    "# Add first name column\n",
    "\n",
    "def extract_first_name(data):\n",
    "    x = data.split(\",\")\n",
    "    if len(x) == 1:\n",
    "        return x[0].split(\" \")[0]\n",
    "    x2 = x[1].split(\" \")\n",
    "    if len(x2) == 1:\n",
    "        return x2[0]\n",
    "    return x2[1]\n",
    "\n",
    "\n",
    "df[\"first_name\"] = df[\"contbr_nm\"].apply(extract_first_name)\n",
    "\n",
    "# Add  weekday column (removed)\n",
    "\n",
    "def get_weekday_from_datestring(data):\n",
    "    return datetime.datetime.strptime(data, \"%d-%b-%y\").weekday()\n",
    "\n",
    "# df[\"weekday\"] = df[\"contbr_contb_receipt_dt\"].apply(get_weekday_from_datestring)\n",
    "\n"
   ]
  },
  {
   "cell_type": "code",
   "execution_count": 11,
   "metadata": {
    "collapsed": false
   },
   "outputs": [
    {
     "name": "stdout",
     "output_type": "stream",
     "text": [
      "Candidates:\n",
      "['Bush, Jeb' 'Carson, Benjamin S.' 'Christie, Christopher J.'\n",
      " 'Clinton, Hillary Rodham' \"Cruz, Rafael Edward 'Ted'\" 'Fiorina, Carly'\n",
      " 'Graham, Lindsey O.' 'Huckabee, Mike' 'Jindal, Bobby' 'Kasich, John R.'\n",
      " 'Lessig, Lawrence' \"O'Malley, Martin Joseph\" 'Pataki, George E.'\n",
      " 'Paul, Rand' 'Perry, James R. (Rick)' 'Rubio, Marco' 'Sanders, Bernard'\n",
      " 'Santorum, Richard J.' 'Stein, Jill' 'Trump, Donald J.' 'Walker, Scott'\n",
      " 'Webb, James Henry Jr.']\n"
     ]
    },
    {
     "data": {
      "text/html": [
       "<div>\n",
       "<table border=\"1\" class=\"dataframe\">\n",
       "  <thead>\n",
       "    <tr style=\"text-align: right;\">\n",
       "      <th></th>\n",
       "      <th>cand_nm</th>\n",
       "      <th>contbr_nm</th>\n",
       "      <th>contbr_st</th>\n",
       "      <th>contbr_occ</th>\n",
       "      <th>contbr_receipt_amt</th>\n",
       "      <th>contbr_contb_receipt_dt</th>\n",
       "      <th>first_name</th>\n",
       "      <th>cand_nm_label</th>\n",
       "    </tr>\n",
       "  </thead>\n",
       "  <tbody>\n",
       "    <tr>\n",
       "      <th>4</th>\n",
       "      <td>Rubio, Marco</td>\n",
       "      <td>VERHAGEN, JOSH</td>\n",
       "      <td>AK</td>\n",
       "      <td>CARPENTER</td>\n",
       "      <td>25</td>\n",
       "      <td>18-NOV-15</td>\n",
       "      <td>JOSH</td>\n",
       "      <td>15</td>\n",
       "    </tr>\n",
       "    <tr>\n",
       "      <th>5</th>\n",
       "      <td>Rubio, Marco</td>\n",
       "      <td>VERHAGEN, JOSH</td>\n",
       "      <td>AK</td>\n",
       "      <td>CARPENTER</td>\n",
       "      <td>17</td>\n",
       "      <td>31-DEC-15</td>\n",
       "      <td>JOSH</td>\n",
       "      <td>15</td>\n",
       "    </tr>\n",
       "    <tr>\n",
       "      <th>6</th>\n",
       "      <td>Rubio, Marco</td>\n",
       "      <td>VERHAGEN, JOSH</td>\n",
       "      <td>AK</td>\n",
       "      <td>CARPENTER</td>\n",
       "      <td>25</td>\n",
       "      <td>15-DEC-15</td>\n",
       "      <td>JOSH</td>\n",
       "      <td>15</td>\n",
       "    </tr>\n",
       "    <tr>\n",
       "      <th>7</th>\n",
       "      <td>Rubio, Marco</td>\n",
       "      <td>HINES, SCOT</td>\n",
       "      <td>AK</td>\n",
       "      <td>HEALTH CARE</td>\n",
       "      <td>100</td>\n",
       "      <td>25-NOV-15</td>\n",
       "      <td>SCOT</td>\n",
       "      <td>15</td>\n",
       "    </tr>\n",
       "    <tr>\n",
       "      <th>8</th>\n",
       "      <td>Rubio, Marco</td>\n",
       "      <td>HINES, SCOT</td>\n",
       "      <td>AK</td>\n",
       "      <td>HEALTH CARE</td>\n",
       "      <td>100</td>\n",
       "      <td>31-DEC-15</td>\n",
       "      <td>SCOT</td>\n",
       "      <td>15</td>\n",
       "    </tr>\n",
       "  </tbody>\n",
       "</table>\n",
       "</div>"
      ],
      "text/plain": [
       "        cand_nm       contbr_nm contbr_st   contbr_occ  contbr_receipt_amt  \\\n",
       "4  Rubio, Marco  VERHAGEN, JOSH        AK    CARPENTER                  25   \n",
       "5  Rubio, Marco  VERHAGEN, JOSH        AK    CARPENTER                  17   \n",
       "6  Rubio, Marco  VERHAGEN, JOSH        AK    CARPENTER                  25   \n",
       "7  Rubio, Marco     HINES, SCOT        AK  HEALTH CARE                 100   \n",
       "8  Rubio, Marco     HINES, SCOT        AK  HEALTH CARE                 100   \n",
       "\n",
       "  contbr_contb_receipt_dt first_name  cand_nm_label  \n",
       "4               18-NOV-15       JOSH             15  \n",
       "5               31-DEC-15       JOSH             15  \n",
       "6               15-DEC-15       JOSH             15  \n",
       "7               25-NOV-15       SCOT             15  \n",
       "8               31-DEC-15       SCOT             15  "
      ]
     },
     "execution_count": 11,
     "metadata": {},
     "output_type": "execute_result"
    }
   ],
   "source": [
    "# Map Candidate to label\n",
    "le = LabelEncoder()\n",
    "le.fit(df['cand_nm'])\n",
    "df['cand_nm_label'] = le.transform(df['cand_nm'])\n",
    "print \"Candidates:\"\n",
    "print le.classes_\n",
    "df.head()"
   ]
  },
  {
   "cell_type": "code",
   "execution_count": 12,
   "metadata": {
    "collapsed": false
   },
   "outputs": [
    {
     "name": "stdout",
     "output_type": "stream",
     "text": [
      "Common Names:\n",
      "['AARON', 'ADAM', 'ALAN', 'ALBERT', 'ALEX', 'ALEXANDER', 'ALICE', 'ALLEN', 'AMY', 'ANDREA', 'ANDREW', 'ANGELA', 'ANN', 'ANNA', 'ANNE', 'ANTHONY', 'ARTHUR', 'BARBARA', 'BARRY', 'BEN', 'BENJAMIN', 'BETH', 'BETTY', 'BEVERLY', 'BILL', 'BOB', 'BONNIE', 'BRENDA', 'BRIAN', 'BRUCE', 'BRYAN', 'CARL', 'CAROL', 'CAROLE', 'CAROLYN', 'CATHERINE', 'CATHY', 'CHARLES', 'CHARLOTTE', 'CHERYL', 'CHRIS', 'CHRISTINE', 'CHRISTOPHER', 'CONNIE', 'CRAIG', 'CYNTHIA', 'DALE', 'DAN', 'DANA', 'DANIEL', 'DAVID', 'DAWN', 'DEAN', 'DEBORAH', 'DEBRA', 'DENISE', 'DENNIS', 'DIANA', 'DIANE', 'DIANNE', 'DON', 'DONALD', 'DONNA', 'DORIS', 'DOROTHY', 'DOUG', 'DOUGLAS', 'ED', 'EDWARD', 'EDWIN', 'EILEEN', 'ELAINE', 'ELEANOR', 'ELIZABETH', 'ELLEN', 'EMILY', 'ERIC', 'EUGENE', 'EVELYN', 'FRANCES', 'FRANCIS', 'FRANK', 'FRED', 'FREDERICK', 'GAIL', 'GARY', 'GENE', 'GEORGE', 'GERALD', 'GLENN', 'GLORIA', 'GORDON', 'GREG', 'GREGORY', 'HAROLD', 'HARRY', 'HEATHER', 'HELEN', 'HENRY', 'HOWARD', 'J.', 'JACK', 'JACQUELINE', 'JAMES', 'JAN', 'JANE', 'JANET', 'JANICE', 'JASON', 'JAY', 'JEAN', 'JEANNE', 'JEFF', 'JEFFREY', 'JENNIFER', 'JERRY', 'JESSICA', 'JILL', 'JIM', 'JOAN', 'JOANNE', 'JOE', 'JOEL', 'JOHN', 'JON', 'JONATHAN', 'JOSEPH', 'JOSHUA', 'JOYCE', 'JUDITH', 'JUDY', 'JULIA', 'JULIE', 'JUSTIN', 'KAREN', 'KATHERINE', 'KATHLEEN', 'KATHRYN', 'KATHY', 'KAY', 'KEITH', 'KELLY', 'KEN', 'KENNETH', 'KEVIN', 'KIM', 'KIMBERLY', 'LARRY', 'LAURA', 'LAURIE', 'LAWRENCE', 'LEE', 'LEONARD', 'LESLIE', 'LINDA', 'LISA', 'LOIS', 'LOUIS', 'LOUISE', 'LYNN', 'MARC', 'MARCIA', 'MARGARET', 'MARIA', 'MARIE', 'MARILYN', 'MARJORIE', 'MARK', 'MARTHA', 'MARTIN', 'MARY', 'MATT', 'MATTHEW', 'MAUREEN', 'MELISSA', 'MICHAEL', 'MICHELE', 'MICHELLE', 'MIKE', 'NANCY', 'NICHOLAS', 'NORMA', 'NORMAN', 'PAMELA', 'PAT', 'PATRICIA', 'PATRICK', 'PAUL', 'PAULA', 'PEGGY', 'PETER', 'PHILIP', 'PHILLIP', 'PHYLLIS', 'RACHEL', 'RALPH', 'RANDALL', 'RANDY', 'RAY', 'RAYMOND', 'REBECCA', 'RICHARD', 'RICK', 'RITA', 'ROBERT', 'ROBIN', 'ROGER', 'RON', 'RONALD', 'ROSE', 'ROY', 'RUSSELL', 'RUTH', 'RYAN', 'SALLY', 'SAM', 'SAMUEL', 'SANDRA', 'SARA', 'SARAH', 'SCOTT', 'SEAN', 'SHARON', 'SHEILA', 'SHIRLEY', 'STANLEY', 'STEPHANIE', 'STEPHEN', 'STEVE', 'STEVEN', 'SUE', 'SUSAN', 'SUZANNE', 'TERESA', 'TERRY', 'THERESA', 'THOMAS', 'TIM', 'TIMOTHY', 'TODD', 'TOM', 'VICKI', 'VICTORIA', 'VINCENT', 'VIRGINIA', 'WALTER', 'WARREN', 'WAYNE', 'WENDY', 'WILLIAM']\n",
      "Common Occupations:\n",
      "['ACCOUNT MANAGER', 'ACCOUNTANT', 'ACCOUNTING', 'ACTOR', 'ADJUNCT PROFESSOR', 'ADMINISTRATION', 'ADMINISTRATIVE ASSISTANT', 'ADMINISTRATOR', 'ADVERTISING', 'AIRLINE PILOT', 'ANALYST', 'ANESTHESIOLOGIST', 'ARCHITECT', 'ARTIST', 'ASSISTANT PROFESSOR', 'ATTORNEY', 'AUTHOR', 'BANKER', 'BANKING', 'BOOKKEEPER', 'BROKER', 'BUILDER', 'BUSINESS', 'BUSINESS ANALYST', 'BUSINESS DEVELOPMENT', 'BUSINESS MANAGER', 'BUSINESS OWNER', 'BUSINESSMAN', 'CAREGIVER', 'CARPENTER', 'CASHIER', 'CEO', 'CFO', 'CHAIRMAN', 'CHEF', 'CHEMIST', 'CHIROPRACTOR', 'CIVIL ENGINEER', 'CLERGY', 'CLERICAL', 'CLERK', 'CLINICAL PSYCHOLOGIST', 'CLINICAL SOCIAL WORKER', 'COLLEGE PROFESSOR', 'COMMUNICATIONS', 'COMPUTER PROGRAMMER', 'CONSTRUCTION', 'CONSTRUCTION MANAGER', 'CONSULTANT', 'CONSULTING', 'CONTRACTOR', 'CONTROLLER', 'COO', 'COUNSELOR', 'CPA', 'CREATIVE DIRECTOR', 'CRNA', 'CRUZ REN', 'CTO', 'CUSTOMER SERVICE', 'DATA ANALYST', 'DATABASE ADMINISTRATOR', 'DENTIST', 'DESIGNER', 'DEVELOPER', 'DIRECTOR', 'DISABLED', 'DOCTOR', 'DRIVER', 'ECONOMIST', 'EDITOR', 'EDUCATION', 'EDUCATOR', 'ELECTRICAL ENGINEER', 'ELECTRICIAN', 'ENGINEER', 'ENGINEERING', 'ENTREPRENEUR', 'ESTIMATOR', 'EXECUTIVE', 'EXECUTIVE ASSISTANT', 'EXECUTIVE DIRECTOR', 'FACULTY', 'FARMER', 'FARMING', 'FILMMAKER', 'FINANCE', 'FINANCIAL ADVISOR', 'FINANCIAL ANALYST', 'FINANCIAL PLANNER', 'FINANCIAL SERVICES', 'FIREFIGHTER', 'FLIGHT ATTENDANT', 'FOUNDER', 'FUNDRAISER', 'GENERAL CONTRACTOR', 'GENERAL MANAGER', 'GEOLOGIST', 'GRADUATE STUDENT', 'GRAPHIC DESIGNER', 'HANDYMAN', 'HEALTH CARE', 'HEALTHCARE', 'HOMEMAKER', 'HOUSEWIFE', 'HUMAN RESOURCES', 'INFORMATION REQUESTED', 'INFORMATION REQUESTED PER BEST EFFORTS', 'INFORMATION TECHNOLOGY', 'INSTRUCTOR', 'INSURANCE', 'INSURANCE AGENT', 'INSURANCE BROKER', 'INSURANCE SALES', 'INTERIOR DESIGNER', 'INVESTMENT ADVISOR', 'INVESTMENTS', 'INVESTOR', 'IT', 'IT CONSULTANT', 'IT MANAGER', 'LABORER', 'LANDLORD', 'LANDMAN', 'LAW ENFORCEMENT', 'LAW PROFESSOR', 'LAWYER', 'LECTURER', 'LEGAL ASSISTANT', 'LEGAL SECRETARY', 'LETTER CARRIER', 'LIBRARIAN', 'M.D.', 'MACHINIST', 'MAINTENANCE', 'MANAGEMENT', 'MANAGEMENT CONSULTANT', 'MANAGER', 'MANAGING DIRECTOR', 'MANUFACTURING', 'MARKETING', 'MARKETING DIRECTOR', 'MARKETING MANAGER', 'MASSAGE THERAPIST', 'MD', 'MECHANIC', 'MECHANICAL ENGINEER', 'MEDICAL DOCTOR', 'MILITARY', 'MINISTER', 'MUSICIAN', 'NETWORK ENGINEER', 'NONE', 'NOT EMPLOYED', 'NURSE', 'NURSE PRACTITIONER', 'OCCUPATIONAL THERAPIST', 'OFFICE MANAGER', 'OPERATIONS MANAGER', 'OPTOMETRIST', 'OWNER', 'PAINTER', 'PARALEGAL', 'PARTNER', 'PASTOR', 'PEDIATRICIAN', 'PHARMACIST', 'PHOTOGRAPHER', 'PHYSICAL THERAPIST', 'PHYSICIAN', 'PHYSICIAN ASSISTANT', 'PHYSICIST', 'PILOT', 'PLUMBER', 'POLICE OFFICER', 'PRESIDENT', 'PRESIDENT & CEO', 'PRESIDENT/CEO', 'PRINCIPAL', 'PRODUCER', 'PRODUCT MANAGER', 'PROFESSOR', 'PROGRAM MANAGER', 'PROGRAMMER', 'PROJECT COORDINATOR', 'PROJECT MANAGER', 'PROPERTY MANAGEMENT', 'PROPERTY MANAGER', 'PSYCHIATRIST', 'PSYCHOLOGIST', 'PSYCHOTHERAPIST', 'PUBLIC RELATIONS', 'PUBLISHER', 'R.N.', 'RANCHER', 'REAL ESTATE', 'REAL ESTATE AGENT', 'REAL ESTATE APPRAISER', 'REAL ESTATE BROKER', 'REAL ESTATE DEVELOPER', 'REAL ESTATE INVESTOR', 'REAL ESTATE SALES', 'REALTOR', 'RECRUITER', 'REFUSED', 'REGISTERED NURSE', 'REQUESTED PER BEST EFFORTS', 'RESEARCHER', 'RESTAURANT OWNER', 'RETAIL', 'RETIRED', 'RETIRED TEACHER', 'RN', 'SALES', 'SALES ASSOCIATE', 'SALES MANAGER', 'SALESMAN', 'SCIENTIST', 'SECRETARY', 'SECURITY', 'SELF', 'SELF EMPLOYED', 'SELF-EMPLOYED', 'SENIOR VICE PRESIDENT', 'SERVER', 'SMALL BUSINESS OWNER', 'SOCIAL WORKER', 'SOFTWARE', 'SOFTWARE ARCHITECT', 'SOFTWARE DEVELOPER', 'SOFTWARE ENGINEER', 'STRATEGIST', 'STUDENT', 'SUBSTITUTE TEACHER', 'SUPERVISOR', 'SURGEON', 'SYSTEMS ANALYST', 'SYSTEMS ENGINEER', 'TEACHER', 'TECHNICAL WRITER', 'TECHNICIAN', 'THERAPIST', 'TRUCK DRIVER', 'UNEMPLOYED', 'VETERINARIAN', 'VICE PRESIDENT', 'VOLUNTEER', 'VP', 'WEB DEVELOPER', 'WRITER']\n"
     ]
    }
   ],
   "source": [
    "# To prevent 1000's of dummy columns for names and occupations, only take top 250 most common of each\n",
    "\n",
    "common_names = df['first_name'].value_counts()[:250].index.tolist()\n",
    "common_occupations = df['contbr_occ'].value_counts()[:250].index.tolist()\n",
    "\n",
    "print \"Common Names:\"\n",
    "print sorted(common_names)\n",
    "print \"Common Occupations:\"\n",
    "print sorted(common_occupations)\n"
   ]
  },
  {
   "cell_type": "code",
   "execution_count": 13,
   "metadata": {
    "collapsed": false
   },
   "outputs": [
    {
     "data": {
      "text/html": [
       "<div>\n",
       "<table border=\"1\" class=\"dataframe\">\n",
       "  <thead>\n",
       "    <tr style=\"text-align: right;\">\n",
       "      <th></th>\n",
       "      <th>cand_nm</th>\n",
       "      <th>contbr_nm</th>\n",
       "      <th>contbr_st</th>\n",
       "      <th>contbr_occ</th>\n",
       "      <th>contbr_receipt_amt</th>\n",
       "      <th>contbr_contb_receipt_dt</th>\n",
       "      <th>first_name</th>\n",
       "      <th>cand_nm_label</th>\n",
       "    </tr>\n",
       "  </thead>\n",
       "  <tbody>\n",
       "    <tr>\n",
       "      <th>4</th>\n",
       "      <td>Rubio, Marco</td>\n",
       "      <td>VERHAGEN, JOSH</td>\n",
       "      <td>AK</td>\n",
       "      <td>CARPENTER</td>\n",
       "      <td>25</td>\n",
       "      <td>18-NOV-15</td>\n",
       "      <td>NaN</td>\n",
       "      <td>15</td>\n",
       "    </tr>\n",
       "    <tr>\n",
       "      <th>5</th>\n",
       "      <td>Rubio, Marco</td>\n",
       "      <td>VERHAGEN, JOSH</td>\n",
       "      <td>AK</td>\n",
       "      <td>CARPENTER</td>\n",
       "      <td>17</td>\n",
       "      <td>31-DEC-15</td>\n",
       "      <td>NaN</td>\n",
       "      <td>15</td>\n",
       "    </tr>\n",
       "    <tr>\n",
       "      <th>6</th>\n",
       "      <td>Rubio, Marco</td>\n",
       "      <td>VERHAGEN, JOSH</td>\n",
       "      <td>AK</td>\n",
       "      <td>CARPENTER</td>\n",
       "      <td>25</td>\n",
       "      <td>15-DEC-15</td>\n",
       "      <td>NaN</td>\n",
       "      <td>15</td>\n",
       "    </tr>\n",
       "    <tr>\n",
       "      <th>7</th>\n",
       "      <td>Rubio, Marco</td>\n",
       "      <td>HINES, SCOT</td>\n",
       "      <td>AK</td>\n",
       "      <td>HEALTH CARE</td>\n",
       "      <td>100</td>\n",
       "      <td>25-NOV-15</td>\n",
       "      <td>NaN</td>\n",
       "      <td>15</td>\n",
       "    </tr>\n",
       "    <tr>\n",
       "      <th>8</th>\n",
       "      <td>Rubio, Marco</td>\n",
       "      <td>HINES, SCOT</td>\n",
       "      <td>AK</td>\n",
       "      <td>HEALTH CARE</td>\n",
       "      <td>100</td>\n",
       "      <td>31-DEC-15</td>\n",
       "      <td>NaN</td>\n",
       "      <td>15</td>\n",
       "    </tr>\n",
       "    <tr>\n",
       "      <th>9</th>\n",
       "      <td>Rubio, Marco</td>\n",
       "      <td>HINES, SCOT</td>\n",
       "      <td>AK</td>\n",
       "      <td>HEALTH CARE</td>\n",
       "      <td>100</td>\n",
       "      <td>31-DEC-15</td>\n",
       "      <td>NaN</td>\n",
       "      <td>15</td>\n",
       "    </tr>\n",
       "    <tr>\n",
       "      <th>10</th>\n",
       "      <td>Rubio, Marco</td>\n",
       "      <td>JANELLI, REBECCA T</td>\n",
       "      <td>AK</td>\n",
       "      <td>RETIRED</td>\n",
       "      <td>100</td>\n",
       "      <td>16-OCT-15</td>\n",
       "      <td>REBECCA</td>\n",
       "      <td>15</td>\n",
       "    </tr>\n",
       "    <tr>\n",
       "      <th>11</th>\n",
       "      <td>Rubio, Marco</td>\n",
       "      <td>JANELLI, REBECCA T</td>\n",
       "      <td>AK</td>\n",
       "      <td>RETIRED</td>\n",
       "      <td>100</td>\n",
       "      <td>16-NOV-15</td>\n",
       "      <td>REBECCA</td>\n",
       "      <td>15</td>\n",
       "    </tr>\n",
       "    <tr>\n",
       "      <th>12</th>\n",
       "      <td>Rubio, Marco</td>\n",
       "      <td>JANELLI, REBECCA T</td>\n",
       "      <td>AK</td>\n",
       "      <td>RETIRED</td>\n",
       "      <td>100</td>\n",
       "      <td>16-DEC-15</td>\n",
       "      <td>REBECCA</td>\n",
       "      <td>15</td>\n",
       "    </tr>\n",
       "    <tr>\n",
       "      <th>13</th>\n",
       "      <td>Rubio, Marco</td>\n",
       "      <td>LEONARD, JOAN MS.</td>\n",
       "      <td>AK</td>\n",
       "      <td>RETIRED</td>\n",
       "      <td>25</td>\n",
       "      <td>05-OCT-15</td>\n",
       "      <td>JOAN</td>\n",
       "      <td>15</td>\n",
       "    </tr>\n",
       "  </tbody>\n",
       "</table>\n",
       "</div>"
      ],
      "text/plain": [
       "         cand_nm           contbr_nm contbr_st   contbr_occ  \\\n",
       "4   Rubio, Marco      VERHAGEN, JOSH        AK    CARPENTER   \n",
       "5   Rubio, Marco      VERHAGEN, JOSH        AK    CARPENTER   \n",
       "6   Rubio, Marco      VERHAGEN, JOSH        AK    CARPENTER   \n",
       "7   Rubio, Marco         HINES, SCOT        AK  HEALTH CARE   \n",
       "8   Rubio, Marco         HINES, SCOT        AK  HEALTH CARE   \n",
       "9   Rubio, Marco         HINES, SCOT        AK  HEALTH CARE   \n",
       "10  Rubio, Marco  JANELLI, REBECCA T        AK      RETIRED   \n",
       "11  Rubio, Marco  JANELLI, REBECCA T        AK      RETIRED   \n",
       "12  Rubio, Marco  JANELLI, REBECCA T        AK      RETIRED   \n",
       "13  Rubio, Marco   LEONARD, JOAN MS.        AK      RETIRED   \n",
       "\n",
       "    contbr_receipt_amt contbr_contb_receipt_dt first_name  cand_nm_label  \n",
       "4                   25               18-NOV-15        NaN             15  \n",
       "5                   17               31-DEC-15        NaN             15  \n",
       "6                   25               15-DEC-15        NaN             15  \n",
       "7                  100               25-NOV-15        NaN             15  \n",
       "8                  100               31-DEC-15        NaN             15  \n",
       "9                  100               31-DEC-15        NaN             15  \n",
       "10                 100               16-OCT-15    REBECCA             15  \n",
       "11                 100               16-NOV-15    REBECCA             15  \n",
       "12                 100               16-DEC-15    REBECCA             15  \n",
       "13                  25               05-OCT-15       JOAN             15  "
      ]
     },
     "execution_count": 13,
     "metadata": {},
     "output_type": "execute_result"
    }
   ],
   "source": [
    "# Values for name and occupation that are not common are made null\n",
    "df['first_name'] = df['first_name'].apply(lambda x: x if x in common_names else np.nan)\n",
    "df['contbr_occ'] = df['contbr_occ'].apply(lambda x: x if x in common_occupations else np.nan)\n",
    "df.head(10)"
   ]
  },
  {
   "cell_type": "code",
   "execution_count": 14,
   "metadata": {
    "collapsed": false
   },
   "outputs": [],
   "source": [
    "# Make dummy columns for first name, state, and occupation\n",
    "first_name_dummies = pd.get_dummies(df['first_name'],prefix='n_')\n",
    "contbr_st_dummies = pd.get_dummies(df['contbr_st'],prefix='s_')\n",
    "contbr_occ_dummies = pd.get_dummies(df['contbr_occ'],prefix='o_')\n",
    "# contbr_dow_dummies = pd.get_dummies(df['weekday'],prefix='d_')\n",
    "\n",
    "df = pd.concat([df, first_name_dummies ,contbr_st_dummies,contbr_occ_dummies], axis=1)\n",
    "\n"
   ]
  },
  {
   "cell_type": "code",
   "execution_count": 15,
   "metadata": {
    "collapsed": false
   },
   "outputs": [
    {
     "data": {
      "text/plain": [
       "(815317, 558)"
      ]
     },
     "execution_count": 15,
     "metadata": {},
     "output_type": "execute_result"
    }
   ],
   "source": [
    "df.shape \n",
    "#558 Columns (250 from dummy names, 250 from dummy occs, 50 states, 8 extras)"
   ]
  },
  {
   "cell_type": "code",
   "execution_count": 16,
   "metadata": {
    "collapsed": false
   },
   "outputs": [
    {
     "data": {
      "text/plain": [
       "4    15\n",
       "5    15\n",
       "6    15\n",
       "7    15\n",
       "8    15\n",
       "Name: cand_nm_label, dtype: int64"
      ]
     },
     "execution_count": 16,
     "metadata": {},
     "output_type": "execute_result"
    }
   ],
   "source": [
    "# Set the label\n",
    "y = df.loc[:,'cand_nm_label']\n",
    "y.head()"
   ]
  },
  {
   "cell_type": "code",
   "execution_count": 17,
   "metadata": {
    "collapsed": false,
    "scrolled": false
   },
   "outputs": [
    {
     "data": {
      "text/plain": [
       "array(['contbr_receipt_amt', 'n__AARON', 'n__ADAM', 'n__ALAN', 'n__ALBERT',\n",
       "       'n__ALEX', 'n__ALEXANDER', 'n__ALICE', 'n__ALLEN', 'n__AMY',\n",
       "       'n__ANDREA', 'n__ANDREW', 'n__ANGELA', 'n__ANN', 'n__ANNA',\n",
       "       'n__ANNE', 'n__ANTHONY', 'n__ARTHUR', 'n__BARBARA', 'n__BARRY',\n",
       "       'n__BEN', 'n__BENJAMIN', 'n__BETH', 'n__BETTY', 'n__BEVERLY',\n",
       "       'n__BILL', 'n__BOB', 'n__BONNIE', 'n__BRENDA', 'n__BRIAN',\n",
       "       'n__BRUCE', 'n__BRYAN', 'n__CARL', 'n__CAROL', 'n__CAROLE',\n",
       "       'n__CAROLYN', 'n__CATHERINE', 'n__CATHY', 'n__CHARLES',\n",
       "       'n__CHARLOTTE', 'n__CHERYL', 'n__CHRIS', 'n__CHRISTINE',\n",
       "       'n__CHRISTOPHER', 'n__CONNIE', 'n__CRAIG', 'n__CYNTHIA', 'n__DALE',\n",
       "       'n__DAN', 'n__DANA', 'n__DANIEL', 'n__DAVID', 'n__DAWN', 'n__DEAN',\n",
       "       'n__DEBORAH', 'n__DEBRA', 'n__DENISE', 'n__DENNIS', 'n__DIANA',\n",
       "       'n__DIANE', 'n__DIANNE', 'n__DON', 'n__DONALD', 'n__DONNA',\n",
       "       'n__DORIS', 'n__DOROTHY', 'n__DOUG', 'n__DOUGLAS', 'n__ED',\n",
       "       'n__EDWARD', 'n__EDWIN', 'n__EILEEN', 'n__ELAINE', 'n__ELEANOR',\n",
       "       'n__ELIZABETH', 'n__ELLEN', 'n__EMILY', 'n__ERIC', 'n__EUGENE',\n",
       "       'n__EVELYN', 'n__FRANCES', 'n__FRANCIS', 'n__FRANK', 'n__FRED',\n",
       "       'n__FREDERICK', 'n__GAIL', 'n__GARY', 'n__GENE', 'n__GEORGE',\n",
       "       'n__GERALD', 'n__GLENN', 'n__GLORIA', 'n__GORDON', 'n__GREG',\n",
       "       'n__GREGORY', 'n__HAROLD', 'n__HARRY', 'n__HEATHER', 'n__HELEN',\n",
       "       'n__HENRY', 'n__HOWARD', 'n__J.', 'n__JACK', 'n__JACQUELINE',\n",
       "       'n__JAMES', 'n__JAN', 'n__JANE', 'n__JANET', 'n__JANICE',\n",
       "       'n__JASON', 'n__JAY', 'n__JEAN', 'n__JEANNE', 'n__JEFF',\n",
       "       'n__JEFFREY', 'n__JENNIFER', 'n__JERRY', 'n__JESSICA', 'n__JILL',\n",
       "       'n__JIM', 'n__JOAN', 'n__JOANNE', 'n__JOE', 'n__JOEL', 'n__JOHN',\n",
       "       'n__JON', 'n__JONATHAN', 'n__JOSEPH', 'n__JOSHUA', 'n__JOYCE',\n",
       "       'n__JUDITH', 'n__JUDY', 'n__JULIA', 'n__JULIE', 'n__JUSTIN',\n",
       "       'n__KAREN', 'n__KATHERINE', 'n__KATHLEEN', 'n__KATHRYN', 'n__KATHY',\n",
       "       'n__KAY', 'n__KEITH', 'n__KELLY', 'n__KEN', 'n__KENNETH',\n",
       "       'n__KEVIN', 'n__KIM', 'n__KIMBERLY', 'n__LARRY', 'n__LAURA',\n",
       "       'n__LAURIE', 'n__LAWRENCE', 'n__LEE', 'n__LEONARD', 'n__LESLIE',\n",
       "       'n__LINDA', 'n__LISA', 'n__LOIS', 'n__LOUIS', 'n__LOUISE',\n",
       "       'n__LYNN', 'n__MARC', 'n__MARCIA', 'n__MARGARET', 'n__MARIA',\n",
       "       'n__MARIE', 'n__MARILYN', 'n__MARJORIE', 'n__MARK', 'n__MARTHA',\n",
       "       'n__MARTIN', 'n__MARY', 'n__MATT', 'n__MATTHEW', 'n__MAUREEN',\n",
       "       'n__MELISSA', 'n__MICHAEL', 'n__MICHELE', 'n__MICHELLE', 'n__MIKE',\n",
       "       'n__NANCY', 'n__NICHOLAS', 'n__NORMA', 'n__NORMAN', 'n__PAMELA',\n",
       "       'n__PAT', 'n__PATRICIA', 'n__PATRICK', 'n__PAUL', 'n__PAULA',\n",
       "       'n__PEGGY', 'n__PETER', 'n__PHILIP', 'n__PHILLIP', 'n__PHYLLIS',\n",
       "       'n__RACHEL', 'n__RALPH', 'n__RANDALL', 'n__RANDY', 'n__RAY',\n",
       "       'n__RAYMOND', 'n__REBECCA', 'n__RICHARD', 'n__RICK', 'n__RITA',\n",
       "       'n__ROBERT', 'n__ROBIN', 'n__ROGER', 'n__RON', 'n__RONALD',\n",
       "       'n__ROSE', 'n__ROY', 'n__RUSSELL', 'n__RUTH', 'n__RYAN', 'n__SALLY',\n",
       "       'n__SAM', 'n__SAMUEL', 'n__SANDRA', 'n__SARA', 'n__SARAH',\n",
       "       'n__SCOTT', 'n__SEAN', 'n__SHARON', 'n__SHEILA', 'n__SHIRLEY',\n",
       "       'n__STANLEY', 'n__STEPHANIE', 'n__STEPHEN', 'n__STEVE', 'n__STEVEN',\n",
       "       'n__SUE', 'n__SUSAN', 'n__SUZANNE', 'n__TERESA', 'n__TERRY',\n",
       "       'n__THERESA', 'n__THOMAS', 'n__TIM', 'n__TIMOTHY', 'n__TODD',\n",
       "       'n__TOM', 'n__VICKI', 'n__VICTORIA', 'n__VINCENT', 'n__VIRGINIA',\n",
       "       'n__WALTER', 'n__WARREN', 'n__WAYNE', 'n__WENDY', 'n__WILLIAM',\n",
       "       's__AK', 's__AL', 's__AR', 's__AZ', 's__CA', 's__CO', 's__CT',\n",
       "       's__DE', 's__FL', 's__GA', 's__HI', 's__IA', 's__ID', 's__IL',\n",
       "       's__IN', 's__KS', 's__KY', 's__LA', 's__MA', 's__MD', 's__ME',\n",
       "       's__MI', 's__MN', 's__MO', 's__MS', 's__MT', 's__NC', 's__ND',\n",
       "       's__NE', 's__NH', 's__NJ', 's__NM', 's__NV', 's__NY', 's__OH',\n",
       "       's__OK', 's__OR', 's__PA', 's__RI', 's__SC', 's__SD', 's__TN',\n",
       "       's__TX', 's__UT', 's__VA', 's__VT', 's__WA', 's__WI', 's__WV',\n",
       "       's__WY', 'o__ACCOUNT MANAGER', 'o__ACCOUNTANT', 'o__ACCOUNTING',\n",
       "       'o__ACTOR', 'o__ADJUNCT PROFESSOR', 'o__ADMINISTRATION',\n",
       "       'o__ADMINISTRATIVE ASSISTANT', 'o__ADMINISTRATOR', 'o__ADVERTISING',\n",
       "       'o__AIRLINE PILOT', 'o__ANALYST', 'o__ANESTHESIOLOGIST',\n",
       "       'o__ARCHITECT', 'o__ARTIST', 'o__ASSISTANT PROFESSOR',\n",
       "       'o__ATTORNEY', 'o__AUTHOR', 'o__BANKER', 'o__BANKING',\n",
       "       'o__BOOKKEEPER', 'o__BROKER', 'o__BUILDER', 'o__BUSINESS',\n",
       "       'o__BUSINESS ANALYST', 'o__BUSINESS DEVELOPMENT',\n",
       "       'o__BUSINESS MANAGER', 'o__BUSINESS OWNER', 'o__BUSINESSMAN',\n",
       "       'o__CAREGIVER', 'o__CARPENTER', 'o__CASHIER', 'o__CEO', 'o__CFO',\n",
       "       'o__CHAIRMAN', 'o__CHEF', 'o__CHEMIST', 'o__CHIROPRACTOR',\n",
       "       'o__CIVIL ENGINEER', 'o__CLERGY', 'o__CLERICAL', 'o__CLERK',\n",
       "       'o__CLINICAL PSYCHOLOGIST', 'o__CLINICAL SOCIAL WORKER',\n",
       "       'o__COLLEGE PROFESSOR', 'o__COMMUNICATIONS',\n",
       "       'o__COMPUTER PROGRAMMER', 'o__CONSTRUCTION',\n",
       "       'o__CONSTRUCTION MANAGER', 'o__CONSULTANT', 'o__CONSULTING',\n",
       "       'o__CONTRACTOR', 'o__CONTROLLER', 'o__COO', 'o__COUNSELOR',\n",
       "       'o__CPA', 'o__CREATIVE DIRECTOR', 'o__CRNA', 'o__CRUZ REN',\n",
       "       'o__CTO', 'o__CUSTOMER SERVICE', 'o__DATA ANALYST',\n",
       "       'o__DATABASE ADMINISTRATOR', 'o__DENTIST', 'o__DESIGNER',\n",
       "       'o__DEVELOPER', 'o__DIRECTOR', 'o__DISABLED', 'o__DOCTOR',\n",
       "       'o__DRIVER', 'o__ECONOMIST', 'o__EDITOR', 'o__EDUCATION',\n",
       "       'o__EDUCATOR', 'o__ELECTRICAL ENGINEER', 'o__ELECTRICIAN',\n",
       "       'o__ENGINEER', 'o__ENGINEERING', 'o__ENTREPRENEUR', 'o__ESTIMATOR',\n",
       "       'o__EXECUTIVE', 'o__EXECUTIVE ASSISTANT', 'o__EXECUTIVE DIRECTOR',\n",
       "       'o__FACULTY', 'o__FARMER', 'o__FARMING', 'o__FILMMAKER',\n",
       "       'o__FINANCE', 'o__FINANCIAL ADVISOR', 'o__FINANCIAL ANALYST',\n",
       "       'o__FINANCIAL PLANNER', 'o__FINANCIAL SERVICES', 'o__FIREFIGHTER',\n",
       "       'o__FLIGHT ATTENDANT', 'o__FOUNDER', 'o__FUNDRAISER',\n",
       "       'o__GENERAL CONTRACTOR', 'o__GENERAL MANAGER', 'o__GEOLOGIST',\n",
       "       'o__GRADUATE STUDENT', 'o__GRAPHIC DESIGNER', 'o__HANDYMAN',\n",
       "       'o__HEALTH CARE', 'o__HEALTHCARE', 'o__HOMEMAKER', 'o__HOUSEWIFE',\n",
       "       'o__HUMAN RESOURCES', 'o__INFORMATION REQUESTED',\n",
       "       'o__INFORMATION REQUESTED PER BEST EFFORTS',\n",
       "       'o__INFORMATION TECHNOLOGY', 'o__INSTRUCTOR', 'o__INSURANCE',\n",
       "       'o__INSURANCE AGENT', 'o__INSURANCE BROKER', 'o__INSURANCE SALES',\n",
       "       'o__INTERIOR DESIGNER', 'o__INVESTMENT ADVISOR', 'o__INVESTMENTS',\n",
       "       'o__INVESTOR', 'o__IT', 'o__IT CONSULTANT', 'o__IT MANAGER',\n",
       "       'o__LABORER', 'o__LANDLORD', 'o__LANDMAN', 'o__LAW ENFORCEMENT',\n",
       "       'o__LAW PROFESSOR', 'o__LAWYER', 'o__LECTURER',\n",
       "       'o__LEGAL ASSISTANT', 'o__LEGAL SECRETARY', 'o__LETTER CARRIER',\n",
       "       'o__LIBRARIAN', 'o__M.D.', 'o__MACHINIST', 'o__MAINTENANCE',\n",
       "       'o__MANAGEMENT', 'o__MANAGEMENT CONSULTANT', 'o__MANAGER',\n",
       "       'o__MANAGING DIRECTOR', 'o__MANUFACTURING', 'o__MARKETING',\n",
       "       'o__MARKETING DIRECTOR', 'o__MARKETING MANAGER',\n",
       "       'o__MASSAGE THERAPIST', 'o__MD', 'o__MECHANIC',\n",
       "       'o__MECHANICAL ENGINEER', 'o__MEDICAL DOCTOR', 'o__MILITARY',\n",
       "       'o__MINISTER', 'o__MUSICIAN', 'o__NETWORK ENGINEER', 'o__NONE',\n",
       "       'o__NOT EMPLOYED', 'o__NURSE', 'o__NURSE PRACTITIONER',\n",
       "       'o__OCCUPATIONAL THERAPIST', 'o__OFFICE MANAGER',\n",
       "       'o__OPERATIONS MANAGER', 'o__OPTOMETRIST', 'o__OWNER', 'o__PAINTER',\n",
       "       'o__PARALEGAL', 'o__PARTNER', 'o__PASTOR', 'o__PEDIATRICIAN',\n",
       "       'o__PHARMACIST', 'o__PHOTOGRAPHER', 'o__PHYSICAL THERAPIST',\n",
       "       'o__PHYSICIAN', 'o__PHYSICIAN ASSISTANT', 'o__PHYSICIST',\n",
       "       'o__PILOT', 'o__PLUMBER', 'o__POLICE OFFICER', 'o__PRESIDENT',\n",
       "       'o__PRESIDENT & CEO', 'o__PRESIDENT/CEO', 'o__PRINCIPAL',\n",
       "       'o__PRODUCER', 'o__PRODUCT MANAGER', 'o__PROFESSOR',\n",
       "       'o__PROGRAM MANAGER', 'o__PROGRAMMER', 'o__PROJECT COORDINATOR',\n",
       "       'o__PROJECT MANAGER', 'o__PROPERTY MANAGEMENT',\n",
       "       'o__PROPERTY MANAGER', 'o__PSYCHIATRIST', 'o__PSYCHOLOGIST',\n",
       "       'o__PSYCHOTHERAPIST', 'o__PUBLIC RELATIONS', 'o__PUBLISHER',\n",
       "       'o__R.N.', 'o__RANCHER', 'o__REAL ESTATE', 'o__REAL ESTATE AGENT',\n",
       "       'o__REAL ESTATE APPRAISER', 'o__REAL ESTATE BROKER',\n",
       "       'o__REAL ESTATE DEVELOPER', 'o__REAL ESTATE INVESTOR',\n",
       "       'o__REAL ESTATE SALES', 'o__REALTOR', 'o__RECRUITER', 'o__REFUSED',\n",
       "       'o__REGISTERED NURSE', 'o__REQUESTED PER BEST EFFORTS',\n",
       "       'o__RESEARCHER', 'o__RESTAURANT OWNER', 'o__RETAIL', 'o__RETIRED',\n",
       "       'o__RETIRED TEACHER', 'o__RN', 'o__SALES', 'o__SALES ASSOCIATE',\n",
       "       'o__SALES MANAGER', 'o__SALESMAN', 'o__SCIENTIST', 'o__SECRETARY',\n",
       "       'o__SECURITY', 'o__SELF', 'o__SELF EMPLOYED', 'o__SELF-EMPLOYED',\n",
       "       'o__SENIOR VICE PRESIDENT', 'o__SERVER', 'o__SMALL BUSINESS OWNER',\n",
       "       'o__SOCIAL WORKER', 'o__SOFTWARE', 'o__SOFTWARE ARCHITECT',\n",
       "       'o__SOFTWARE DEVELOPER', 'o__SOFTWARE ENGINEER', 'o__STRATEGIST',\n",
       "       'o__STUDENT', 'o__SUBSTITUTE TEACHER', 'o__SUPERVISOR',\n",
       "       'o__SURGEON', 'o__SYSTEMS ANALYST', 'o__SYSTEMS ENGINEER',\n",
       "       'o__TEACHER', 'o__TECHNICAL WRITER', 'o__TECHNICIAN',\n",
       "       'o__THERAPIST', 'o__TRUCK DRIVER', 'o__UNEMPLOYED',\n",
       "       'o__VETERINARIAN', 'o__VICE PRESIDENT', 'o__VOLUNTEER', 'o__VP',\n",
       "       'o__WEB DEVELOPER', 'o__WRITER'], dtype=object)"
      ]
     },
     "execution_count": 17,
     "metadata": {},
     "output_type": "execute_result"
    }
   ],
   "source": [
    "# Set the features\n",
    "\n",
    "X = df.drop(['cand_nm', 'contbr_nm','contbr_st','contbr_contb_receipt_dt','first_name','cand_nm_label','contbr_occ'], axis=1)\n",
    "X.head()\n",
    "X.columns.values\n"
   ]
  },
  {
   "cell_type": "code",
   "execution_count": 18,
   "metadata": {
    "collapsed": false
   },
   "outputs": [
    {
     "data": {
      "text/plain": [
       "RandomForestClassifier(bootstrap=True, class_weight=None, criterion='gini',\n",
       "            max_depth=None, max_features='auto', max_leaf_nodes=None,\n",
       "            min_samples_leaf=1, min_samples_split=2,\n",
       "            min_weight_fraction_leaf=0.0, n_estimators=5, n_jobs=-1,\n",
       "            oob_score=False, random_state=None, verbose=0,\n",
       "            warm_start=False)"
      ]
     },
     "execution_count": 18,
     "metadata": {},
     "output_type": "execute_result"
    }
   ],
   "source": [
    "# Split data into train and test and train RFC on training data\n",
    "\n",
    "X_train, X_test, y_train, y_test = train_test_split(X, y, test_size=0.33)\n",
    "rfc = RandomForestClassifier(n_estimators=5,n_jobs=-1)\n",
    "rfc.fit(X_train,y_train)\n"
   ]
  },
  {
   "cell_type": "code",
   "execution_count": 19,
   "metadata": {
    "collapsed": false
   },
   "outputs": [
    {
     "data": {
      "text/plain": [
       "0.62002192860195871"
      ]
     },
     "execution_count": 19,
     "metadata": {},
     "output_type": "execute_result"
    }
   ],
   "source": [
    "# Report Score\n",
    "rfc.score(X_test,y_test)\n",
    "\n",
    "################################\n",
    "# Variation Scores:\n",
    "################################\n",
    "# Score with State, First Name, Occ, Amount Donated ~55\n",
    "# Score Without Amount Donated ~52\n",
    "# Score without First Name ~48\n",
    "# Score Without Occupation ~46\n",
    "# Score Without State ~44\n",
    "################################\n",
    "# Score With RFC with 100 estimators ~55\n",
    "# Score With RFC with 10 estimators ~54.5\n",
    "# Score With RFC with 5 estimators ~54.5\n",
    "# Score With RFC with 1 estimators ~50.6\n",
    "################################\n",
    "# Score With ONLY State ~33\n",
    "################################\n",
    "# Score With All Fields After Adding Day Of Week ~ 49 ???\n",
    "################################\n",
    "# Score WIth 250 dummy columns instead of 100 for both name and occupation - 59\n"
   ]
  },
  {
   "cell_type": "code",
   "execution_count": 20,
   "metadata": {
    "collapsed": false
   },
   "outputs": [
    {
     "data": {
      "text/plain": [
       "{'bootstrap': True,\n",
       " 'class_weight': None,\n",
       " 'criterion': 'gini',\n",
       " 'max_depth': None,\n",
       " 'max_features': 'auto',\n",
       " 'max_leaf_nodes': None,\n",
       " 'min_samples_leaf': 1,\n",
       " 'min_samples_split': 2,\n",
       " 'min_weight_fraction_leaf': 0.0,\n",
       " 'n_estimators': 5,\n",
       " 'n_jobs': -1,\n",
       " 'oob_score': False,\n",
       " 'random_state': None,\n",
       " 'verbose': 0,\n",
       " 'warm_start': False}"
      ]
     },
     "execution_count": 20,
     "metadata": {},
     "output_type": "execute_result"
    }
   ],
   "source": [
    "rfc.get_params()"
   ]
  },
  {
   "cell_type": "code",
   "execution_count": 21,
   "metadata": {
    "collapsed": false
   },
   "outputs": [
    {
     "data": {
      "text/plain": [
       "GridSearchCV(cv=3, error_score='raise',\n",
       "       estimator=RandomForestClassifier(bootstrap=True, class_weight=None, criterion='gini',\n",
       "            max_depth=None, max_features='auto', max_leaf_nodes=None,\n",
       "            min_samples_leaf=1, min_samples_split=2,\n",
       "            min_weight_fraction_leaf=0.0, n_estimators=10, n_jobs=1,\n",
       "            oob_score=False, random_state=None, verbose=0,\n",
       "            warm_start=False),\n",
       "       fit_params={}, iid=True, n_jobs=-1,\n",
       "       param_grid={'n_estimators': [1, 2]}, pre_dispatch='2*n_jobs',\n",
       "       refit=True, scoring=None, verbose=0)"
      ]
     },
     "execution_count": 21,
     "metadata": {},
     "output_type": "execute_result"
    }
   ],
   "source": [
    "\n",
    "param_grid = {\n",
    "#                 \"max_depth\": [3, None],\n",
    "#               \"max_features\": [1, 3, 10],\n",
    "#               \"min_samples_split\": [1, 3, 10],\n",
    "#               \"min_samples_leaf\": [1, 3, 10],\n",
    "#               \"bootstrap\": [True, False],\n",
    "              \"n_estimators\": [1, 2]}\n",
    "gs = GridSearchCV(RandomForestClassifier(), param_grid=param_grid,cv=3,n_jobs=-1)\n",
    "gs.fit(X, y)\n",
    "# gs.score(X_test,y_test)\n",
    "\n",
    "#Other things to do.\n",
    "#1. add headers across the baord\n",
    "#2. clean grid search square\n",
    "#3. make function that transforms occupations\n",
    "#4 adjust plot at the top\n",
    "#5. new pickle"
   ]
  },
  {
   "cell_type": "code",
   "execution_count": 22,
   "metadata": {
    "collapsed": false
   },
   "outputs": [
    {
     "data": {
      "text/plain": [
       "{'cv': 3,\n",
       " 'error_score': 'raise',\n",
       " 'estimator': RandomForestClassifier(bootstrap=True, class_weight=None, criterion='gini',\n",
       "             max_depth=None, max_features='auto', max_leaf_nodes=None,\n",
       "             min_samples_leaf=1, min_samples_split=2,\n",
       "             min_weight_fraction_leaf=0.0, n_estimators=10, n_jobs=1,\n",
       "             oob_score=False, random_state=None, verbose=0,\n",
       "             warm_start=False),\n",
       " 'estimator__bootstrap': True,\n",
       " 'estimator__class_weight': None,\n",
       " 'estimator__criterion': 'gini',\n",
       " 'estimator__max_depth': None,\n",
       " 'estimator__max_features': 'auto',\n",
       " 'estimator__max_leaf_nodes': None,\n",
       " 'estimator__min_samples_leaf': 1,\n",
       " 'estimator__min_samples_split': 2,\n",
       " 'estimator__min_weight_fraction_leaf': 0.0,\n",
       " 'estimator__n_estimators': 10,\n",
       " 'estimator__n_jobs': 1,\n",
       " 'estimator__oob_score': False,\n",
       " 'estimator__random_state': None,\n",
       " 'estimator__verbose': 0,\n",
       " 'estimator__warm_start': False,\n",
       " 'fit_params': {},\n",
       " 'iid': True,\n",
       " 'n_jobs': -1,\n",
       " 'param_grid': {'n_estimators': [1, 2]},\n",
       " 'pre_dispatch': '2*n_jobs',\n",
       " 'refit': True,\n",
       " 'scoring': None,\n",
       " 'verbose': 0}"
      ]
     },
     "execution_count": 22,
     "metadata": {},
     "output_type": "execute_result"
    }
   ],
   "source": [
    "gs.get_params()"
   ]
  },
  {
   "cell_type": "code",
   "execution_count": 23,
   "metadata": {
    "collapsed": false
   },
   "outputs": [
    {
     "name": "stdout",
     "output_type": "stream",
     "text": [
      "[mean: 0.28599, std: 0.06977, params: {'n_estimators': 1}, mean: 0.27280, std: 0.07082, params: {'n_estimators': 2}]\n",
      "RandomForestClassifier(bootstrap=True, class_weight=None, criterion='gini',\n",
      "            max_depth=None, max_features='auto', max_leaf_nodes=None,\n",
      "            min_samples_leaf=1, min_samples_split=2,\n",
      "            min_weight_fraction_leaf=0.0, n_estimators=1, n_jobs=1,\n",
      "            oob_score=False, random_state=None, verbose=0,\n",
      "            warm_start=False)\n",
      "0.285991828945\n"
     ]
    }
   ],
   "source": [
    "print gs.grid_scores_\n",
    "print gs.best_estimator_\n",
    "print gs.best_score_\n",
    "\n"
   ]
  },
  {
   "cell_type": "code",
   "execution_count": 24,
   "metadata": {
    "collapsed": false
   },
   "outputs": [
    {
     "name": "stdout",
     "output_type": "stream",
     "text": [
      "('Accuracy Score:', 0.26956198546765531)\n"
     ]
    }
   ],
   "source": [
    "# Dummy Score\n",
    "\n",
    "dumb = DummyClassifier(strategy='most_frequent') # also try with 'stratified'\n",
    "dumb.fit(X_train, y_train)\n",
    "y_dumb_class = dumb.predict(X_test) #X_test[:,None]\n",
    "\n",
    "print ('Accuracy Score:', accuracy_score(y_test, y_dumb_class))"
   ]
  },
  {
   "cell_type": "code",
   "execution_count": 25,
   "metadata": {
    "collapsed": false
   },
   "outputs": [
    {
     "data": {
      "text/plain": [
       "RandomForestClassifier(bootstrap=True, class_weight=None, criterion='gini',\n",
       "            max_depth=None, max_features='auto', max_leaf_nodes=None,\n",
       "            min_samples_leaf=1, min_samples_split=2,\n",
       "            min_weight_fraction_leaf=0.0, n_estimators=5, n_jobs=-1,\n",
       "            oob_score=False, random_state=None, verbose=0,\n",
       "            warm_start=False)"
      ]
     },
     "execution_count": 25,
     "metadata": {},
     "output_type": "execute_result"
    }
   ],
   "source": [
    "# Refit with entire dataset\n",
    "rfc.fit(X,y)"
   ]
  },
  {
   "cell_type": "code",
   "execution_count": 26,
   "metadata": {
    "collapsed": false
   },
   "outputs": [],
   "source": [
    "def format_prediction(name,state,occupation,howmuch):\n",
    "    formatted  = np.zeros(551)\n",
    "    formatted[0] = howmuch\n",
    "    \n",
    "    name_col = \"n__\" +  name\n",
    "    occupation_col = \"o__\" +  occupation\n",
    "    state_col = \"s__\" +  state\n",
    "    if name_col in list(X.columns.values):\n",
    "        name_dummy = list(X.columns.values).index(name_col)\n",
    "        formatted[name_dummy] = 1\n",
    "    if name_col in list(X.columns.values):\n",
    "        occupation_dummy = list(X.columns.values).index(occupation_col)\n",
    "        formatted[occupation_dummy] = 1\n",
    "    if state_col in list(X.columns.values):\n",
    "        state_dummy = list(X.columns.values).index(state_col)\n",
    "        formatted[state_dummy] = 1          \n",
    "    \n",
    "    return formatted"
   ]
  },
  {
   "cell_type": "code",
   "execution_count": 27,
   "metadata": {
    "collapsed": false
   },
   "outputs": [
    {
     "ename": "SyntaxError",
     "evalue": "invalid syntax (<ipython-input-27-2ce279009ddd>, line 14)",
     "output_type": "error",
     "traceback": [
      "\u001b[0;36m  File \u001b[0;32m\"<ipython-input-27-2ce279009ddd>\"\u001b[0;36m, line \u001b[0;32m14\u001b[0m\n\u001b[0;31m    details_5 = format_prediction(\"JANE\",\"FL\",\"R.N.\",1000)]\u001b[0m\n\u001b[0m                                                          ^\u001b[0m\n\u001b[0;31mSyntaxError\u001b[0m\u001b[0;31m:\u001b[0m invalid syntax\n"
     ]
    }
   ],
   "source": [
    "print \"*\"*50 \n",
    "details_1 = [format_prediction(\"JOHN\",\"NY\",\"BANKER\",25)]\n",
    "details_2 = [format_prediction(\"JOHN\",\"NY\",\"STUDENT\",25)]\n",
    "print le.inverse_transform(rfc.predict(details_1))[0]\n",
    "print le.inverse_transform(rfc.predict(details_2))[0]\n",
    "print \"*\"*50\n",
    "\n",
    "details_3 = [format_prediction(\"BILL\",\"TX\",\"VICE PRESIDENT\",2600)]\n",
    "details_4 = [format_prediction(\"ANN\",\"TX\",\"VICE PRESIDENT\",2600)]\n",
    "print le.inverse_transform(rfc.predict(details_3))[0]\n",
    "print le.inverse_transform(rfc.predict(details_4))[0]\n",
    "print \"*\"*50\n",
    "\n",
    "details_5 = format_prediction(\"JANE\",\"FL\",\"R.N.\",1000)]\n",
    "details_6 = format_prediction(\"JANE\",\"FL\",\"R.N.\",10)\n",
    "print le.inverse_transform(rfc.predict(details_5))[0]\n",
    "print le.inverse_transform(rfc.predict(details_6))[0]\n",
    "print \"*\"*50\n",
    "\n",
    "details_7 = format_prediction(\"LAURA\",\"IL\",\"BANKER\",50)\n",
    "details_8 = format_prediction(\"LAURA\",\"VT\",\"BANKER\",50)\n",
    "print le.inverse_transform(rfc.predict(details_7))[0]\n",
    "print le.inverse_transform(rfc.predict(details_8))[0]\n",
    "print \"*\"*50\n",
    "\n"
   ]
  },
  {
   "cell_type": "code",
   "execution_count": null,
   "metadata": {
    "collapsed": false
   },
   "outputs": [],
   "source": [
    "# Get all the percentages for a given prediction\n",
    "cands = le.inverse_transform(rfc.classes_)\n",
    "details_test= format_prediction(\"LAURA\",\"VT\",\"BANKER\",50)\n",
    "print le.inverse_transform(rfc.predict(details_test))[0]\n",
    "[cands[i]+\": \" +str(p) for i,p in enumerate(rfc.predict_proba(details_test)[0])]"
   ]
  },
  {
   "cell_type": "code",
   "execution_count": null,
   "metadata": {
    "collapsed": true
   },
   "outputs": [],
   "source": [
    "Dump to pickle:\n",
    "    \n",
    "# pickle.dump(rfc,open(\"rfc.pkl\",\"wb\"))"
   ]
  },
  {
   "cell_type": "code",
   "execution_count": null,
   "metadata": {
    "collapsed": true
   },
   "outputs": [],
   "source": []
  }
 ],
 "metadata": {
  "kernelspec": {
   "display_name": "Python 2",
   "language": "python",
   "name": "python2"
  },
  "language_info": {
   "codemirror_mode": {
    "name": "ipython",
    "version": 2
   },
   "file_extension": ".py",
   "mimetype": "text/x-python",
   "name": "python",
   "nbconvert_exporter": "python",
   "pygments_lexer": "ipython2",
   "version": "2.7.11"
  }
 },
 "nbformat": 4,
 "nbformat_minor": 0
}
