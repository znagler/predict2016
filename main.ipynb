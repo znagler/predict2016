{
 "cells": [
  {
   "cell_type": "markdown",
   "metadata": {},
   "source": [
    "<h1>Campaign Donation Predictor</h1>\n",
    "<p>This notebook is part one of a mini end-to-end machine learning web application.  The question at hand is whether simple attributes like name and occupation can reveal which 2016 presidential candidate you prefer.  This is the structure:<p>\n",
    "<ol>\n",
    "<li> <strong>The notebook (you are here)</strong>: This is where the model is trained using Federal Election Commission data.</li>\n",
    "<li> <strong>The API</strong>: Using the trained model from part 1 (in Pickle form), a Flask API serves predictions to the front-end.</li>\n",
    "<li><strong>The web app</strong>: Using the prediction from the API, the app visualizes the results.</li>\n"
   ]
  },
  {
   "cell_type": "code",
   "execution_count": 73,
   "metadata": {
    "collapsed": false
   },
   "outputs": [],
   "source": [
    "# analysis\n",
    "import pandas as pd\n",
    "import numpy as np\n",
    "from sklearn.linear_model import LinearRegression\n",
    "from sklearn.cross_validation import train_test_split\n",
    "from sklearn import metrics\n",
    "from sklearn.preprocessing import LabelEncoder\n",
    "from sklearn.ensemble import RandomForestClassifier\n",
    "from sklearn.cross_validation import cross_val_score\n",
    "from sklearn.neighbors import KNeighborsClassifier\n",
    "from sklearn import grid_search\n",
    "from sklearn.grid_search import GridSearchCV\n",
    "from sklearn.dummy import DummyClassifier\n",
    "from sklearn.metrics import accuracy_score\n",
    "import statsmodels.formula.api as smf\n",
    "from sklearn.pipeline import Pipeline\n",
    "from sklearn.metrics import confusion_matrix\n",
    "from sklearn.cross_validation import KFold\n",
    "\n",
    "# visualization\n",
    "import seaborn as sns\n",
    "import matplotlib.pyplot as plt\n",
    "%matplotlib inline\n",
    "\n",
    "# pickle\n",
    "import pickle"
   ]
  },
  {
   "cell_type": "code",
   "execution_count": 35,
   "metadata": {
    "collapsed": false
   },
   "outputs": [
    {
     "data": {
      "text/html": [
       "<div>\n",
       "<table border=\"1\" class=\"dataframe\">\n",
       "  <thead>\n",
       "    <tr style=\"text-align: right;\">\n",
       "      <th></th>\n",
       "      <th>d_id</th>\n",
       "      <th>cand_id</th>\n",
       "      <th>cand_nm</th>\n",
       "      <th>contbr_nm</th>\n",
       "      <th>contbr_city</th>\n",
       "      <th>contbr_st</th>\n",
       "      <th>contbr_zip</th>\n",
       "      <th>contbr_emp</th>\n",
       "      <th>contbr_occ</th>\n",
       "      <th>contbr_receipt_amt</th>\n",
       "      <th>contbr_contb_receipt_dt</th>\n",
       "      <th>receipt_desc</th>\n",
       "      <th>memo_cd</th>\n",
       "      <th>memo_text</th>\n",
       "      <th>form_tp</th>\n",
       "      <th>file_num</th>\n",
       "      <th>tran_ud</th>\n",
       "      <th>election</th>\n",
       "      <th>empty</th>\n",
       "    </tr>\n",
       "  </thead>\n",
       "  <tbody>\n",
       "    <tr>\n",
       "      <th>0</th>\n",
       "      <td>C00458844</td>\n",
       "      <td>P60006723</td>\n",
       "      <td>Rubio, Marco</td>\n",
       "      <td>HEFFERNAN, MICHAEL</td>\n",
       "      <td>APO</td>\n",
       "      <td>AE</td>\n",
       "      <td>9096</td>\n",
       "      <td>RETIRED</td>\n",
       "      <td>RETIRED</td>\n",
       "      <td>225</td>\n",
       "      <td>29-OCT-15</td>\n",
       "      <td>NaN</td>\n",
       "      <td>NaN</td>\n",
       "      <td>NaN</td>\n",
       "      <td>SA17A</td>\n",
       "      <td>1047126</td>\n",
       "      <td>SA17.863181</td>\n",
       "      <td>P2016</td>\n",
       "      <td>NaN</td>\n",
       "    </tr>\n",
       "    <tr>\n",
       "      <th>1</th>\n",
       "      <td>C00458844</td>\n",
       "      <td>P60006723</td>\n",
       "      <td>Rubio, Marco</td>\n",
       "      <td>HEFFERNAN, MICHAEL</td>\n",
       "      <td>APO</td>\n",
       "      <td>AE</td>\n",
       "      <td>90960009</td>\n",
       "      <td>INFORMATION REQUESTED PER BEST EFFORTS</td>\n",
       "      <td>INFORMATION REQUESTED PER BEST EFFORTS</td>\n",
       "      <td>210</td>\n",
       "      <td>27-JUN-15</td>\n",
       "      <td>NaN</td>\n",
       "      <td>NaN</td>\n",
       "      <td>NaN</td>\n",
       "      <td>SA17A</td>\n",
       "      <td>1029436</td>\n",
       "      <td>SA17.796904</td>\n",
       "      <td>P2016</td>\n",
       "      <td>NaN</td>\n",
       "    </tr>\n",
       "    <tr>\n",
       "      <th>2</th>\n",
       "      <td>C00458844</td>\n",
       "      <td>P60006723</td>\n",
       "      <td>Rubio, Marco</td>\n",
       "      <td>DOHERTY, THERESA</td>\n",
       "      <td>APO</td>\n",
       "      <td>AE</td>\n",
       "      <td>97520002</td>\n",
       "      <td>DODEA/DS</td>\n",
       "      <td>TEACHER</td>\n",
       "      <td>500</td>\n",
       "      <td>26-JUN-15</td>\n",
       "      <td>NaN</td>\n",
       "      <td>NaN</td>\n",
       "      <td>NaN</td>\n",
       "      <td>SA17A</td>\n",
       "      <td>1029436</td>\n",
       "      <td>SA17.769700</td>\n",
       "      <td>P2016</td>\n",
       "      <td>NaN</td>\n",
       "    </tr>\n",
       "    <tr>\n",
       "      <th>3</th>\n",
       "      <td>C00458844</td>\n",
       "      <td>P60006723</td>\n",
       "      <td>Rubio, Marco</td>\n",
       "      <td>KIBBLE, KUMAR</td>\n",
       "      <td>DPO</td>\n",
       "      <td>AE</td>\n",
       "      <td>92131903</td>\n",
       "      <td>U.S. DEPARTMENT OF HOMELAND SECURITY</td>\n",
       "      <td>LAW ENFORCEMENT</td>\n",
       "      <td>500</td>\n",
       "      <td>27-AUG-15</td>\n",
       "      <td>NaN</td>\n",
       "      <td>NaN</td>\n",
       "      <td>NaN</td>\n",
       "      <td>SA17A</td>\n",
       "      <td>1031526</td>\n",
       "      <td>SA17.813360</td>\n",
       "      <td>P2016</td>\n",
       "      <td>NaN</td>\n",
       "    </tr>\n",
       "    <tr>\n",
       "      <th>4</th>\n",
       "      <td>C00458844</td>\n",
       "      <td>P60006723</td>\n",
       "      <td>Rubio, Marco</td>\n",
       "      <td>VERHAGEN, JOSH</td>\n",
       "      <td>NENANA</td>\n",
       "      <td>AK</td>\n",
       "      <td>997600113</td>\n",
       "      <td>U.B.I</td>\n",
       "      <td>CARPENTER</td>\n",
       "      <td>25</td>\n",
       "      <td>18-NOV-15</td>\n",
       "      <td>NaN</td>\n",
       "      <td>NaN</td>\n",
       "      <td>NaN</td>\n",
       "      <td>SA17A</td>\n",
       "      <td>1047126</td>\n",
       "      <td>SA17.879914</td>\n",
       "      <td>P2016</td>\n",
       "      <td>NaN</td>\n",
       "    </tr>\n",
       "  </tbody>\n",
       "</table>\n",
       "</div>"
      ],
      "text/plain": [
       "        d_id    cand_id       cand_nm           contbr_nm contbr_city  \\\n",
       "0  C00458844  P60006723  Rubio, Marco  HEFFERNAN, MICHAEL         APO   \n",
       "1  C00458844  P60006723  Rubio, Marco  HEFFERNAN, MICHAEL         APO   \n",
       "2  C00458844  P60006723  Rubio, Marco    DOHERTY, THERESA         APO   \n",
       "3  C00458844  P60006723  Rubio, Marco       KIBBLE, KUMAR         DPO   \n",
       "4  C00458844  P60006723  Rubio, Marco      VERHAGEN, JOSH      NENANA   \n",
       "\n",
       "  contbr_st contbr_zip                              contbr_emp  \\\n",
       "0        AE       9096                                 RETIRED   \n",
       "1        AE   90960009  INFORMATION REQUESTED PER BEST EFFORTS   \n",
       "2        AE   97520002                                DODEA/DS   \n",
       "3        AE   92131903    U.S. DEPARTMENT OF HOMELAND SECURITY   \n",
       "4        AK  997600113                                   U.B.I   \n",
       "\n",
       "                               contbr_occ  contbr_receipt_amt  \\\n",
       "0                                 RETIRED                 225   \n",
       "1  INFORMATION REQUESTED PER BEST EFFORTS                 210   \n",
       "2                                 TEACHER                 500   \n",
       "3                         LAW ENFORCEMENT                 500   \n",
       "4                               CARPENTER                  25   \n",
       "\n",
       "  contbr_contb_receipt_dt receipt_desc memo_cd memo_text form_tp  file_num  \\\n",
       "0               29-OCT-15          NaN     NaN       NaN   SA17A   1047126   \n",
       "1               27-JUN-15          NaN     NaN       NaN   SA17A   1029436   \n",
       "2               26-JUN-15          NaN     NaN       NaN   SA17A   1029436   \n",
       "3               27-AUG-15          NaN     NaN       NaN   SA17A   1031526   \n",
       "4               18-NOV-15          NaN     NaN       NaN   SA17A   1047126   \n",
       "\n",
       "       tran_ud election  empty  \n",
       "0  SA17.863181    P2016    NaN  \n",
       "1  SA17.796904    P2016    NaN  \n",
       "2  SA17.769700    P2016    NaN  \n",
       "3  SA17.813360    P2016    NaN  \n",
       "4  SA17.879914    P2016    NaN  "
      ]
     },
     "execution_count": 35,
     "metadata": {},
     "output_type": "execute_result"
    }
   ],
   "source": [
    "cols = [\"d_id\",\n",
    "        \"cand_id\",\n",
    "        \"cand_nm\",\n",
    "        \"contbr_nm\",\n",
    "        \"contbr_city\", \n",
    "        \"contbr_st\",\n",
    "        \"contbr_zip\",\n",
    "        \"contbr_emp\",\n",
    "        \"contbr_occ\",\n",
    "        \"contbr_receipt_amt\",\n",
    "        \"contbr_contb_receipt_dt\",\n",
    "        \"receipt_desc\", \n",
    "        \"memo_cd\",\n",
    "        \"memo_text\",\n",
    "        \"form_tp\",\n",
    "        \"file_num\",\n",
    "        \"tran_ud\",\n",
    "        \"election\",\n",
    "        \"empty\"\n",
    "       ]\n",
    "df =  pd.read_csv('fec.csv',names=cols,skiprows=[0])\n",
    "df.head()"
   ]
  },
  {
   "cell_type": "code",
   "execution_count": 36,
   "metadata": {
    "collapsed": false
   },
   "outputs": [
    {
     "data": {
      "text/html": [
       "<div>\n",
       "<table border=\"1\" class=\"dataframe\">\n",
       "  <thead>\n",
       "    <tr style=\"text-align: right;\">\n",
       "      <th></th>\n",
       "      <th>cand_nm</th>\n",
       "      <th>contbr_nm</th>\n",
       "      <th>contbr_st</th>\n",
       "      <th>contbr_zip</th>\n",
       "      <th>contbr_receipt_amt</th>\n",
       "      <th>contbr_occ</th>\n",
       "    </tr>\n",
       "  </thead>\n",
       "  <tbody>\n",
       "    <tr>\n",
       "      <th>0</th>\n",
       "      <td>Rubio, Marco</td>\n",
       "      <td>HEFFERNAN, MICHAEL</td>\n",
       "      <td>AE</td>\n",
       "      <td>9096</td>\n",
       "      <td>225</td>\n",
       "      <td>RETIRED</td>\n",
       "    </tr>\n",
       "    <tr>\n",
       "      <th>1</th>\n",
       "      <td>Rubio, Marco</td>\n",
       "      <td>HEFFERNAN, MICHAEL</td>\n",
       "      <td>AE</td>\n",
       "      <td>90960009</td>\n",
       "      <td>210</td>\n",
       "      <td>INFORMATION REQUESTED PER BEST EFFORTS</td>\n",
       "    </tr>\n",
       "    <tr>\n",
       "      <th>2</th>\n",
       "      <td>Rubio, Marco</td>\n",
       "      <td>DOHERTY, THERESA</td>\n",
       "      <td>AE</td>\n",
       "      <td>97520002</td>\n",
       "      <td>500</td>\n",
       "      <td>TEACHER</td>\n",
       "    </tr>\n",
       "    <tr>\n",
       "      <th>3</th>\n",
       "      <td>Rubio, Marco</td>\n",
       "      <td>KIBBLE, KUMAR</td>\n",
       "      <td>AE</td>\n",
       "      <td>92131903</td>\n",
       "      <td>500</td>\n",
       "      <td>LAW ENFORCEMENT</td>\n",
       "    </tr>\n",
       "    <tr>\n",
       "      <th>4</th>\n",
       "      <td>Rubio, Marco</td>\n",
       "      <td>VERHAGEN, JOSH</td>\n",
       "      <td>AK</td>\n",
       "      <td>997600113</td>\n",
       "      <td>25</td>\n",
       "      <td>CARPENTER</td>\n",
       "    </tr>\n",
       "  </tbody>\n",
       "</table>\n",
       "</div>"
      ],
      "text/plain": [
       "        cand_nm           contbr_nm contbr_st contbr_zip  contbr_receipt_amt  \\\n",
       "0  Rubio, Marco  HEFFERNAN, MICHAEL        AE       9096                 225   \n",
       "1  Rubio, Marco  HEFFERNAN, MICHAEL        AE   90960009                 210   \n",
       "2  Rubio, Marco    DOHERTY, THERESA        AE   97520002                 500   \n",
       "3  Rubio, Marco       KIBBLE, KUMAR        AE   92131903                 500   \n",
       "4  Rubio, Marco      VERHAGEN, JOSH        AK  997600113                  25   \n",
       "\n",
       "                               contbr_occ  \n",
       "0                                 RETIRED  \n",
       "1  INFORMATION REQUESTED PER BEST EFFORTS  \n",
       "2                                 TEACHER  \n",
       "3                         LAW ENFORCEMENT  \n",
       "4                               CARPENTER  "
      ]
     },
     "execution_count": 36,
     "metadata": {},
     "output_type": "execute_result"
    }
   ],
   "source": [
    "# Pull out columns needed\n",
    "desired_cols = [\"cand_nm\",\"contbr_nm\",\"contbr_st\",\"contbr_zip\",\"contbr_receipt_amt\",\"contbr_occ\"]\n",
    "df = df[desired_cols]\n",
    "df.head()"
   ]
  },
  {
   "cell_type": "code",
   "execution_count": 39,
   "metadata": {
    "collapsed": true
   },
   "outputs": [],
   "source": [
    "# Limit data to 50 U.S. states\n",
    "states = [\"AL\",\"AK\",\"AZ\",\"AR\",\"CA\",\"CO\",\"CT\",\"DE\",\"FL\",\"GA\",\"HI\",\"ID\",\"IL\",\"IN\",\"IA\",\"KS\",\"KY\",\"LA\",\"ME\",\"MD\",\"MA\",\"MI\",\"MN\",\"MS\",\"MO\",\"MT\",\"NE\",\"NV\",\"NH\",\"NJ\",\"NM\",\"NY\",\"NC\",\"ND\",\"OH\",\"OK\",\"OR\",\"PA\",\"RI\",\"SC\",\"SD\",\"TN\",\"TX\",\"UT\",\"VT\",\"VA\",\"WA\",\"WV\",\"WI\",\"WY\"]\n",
    "df = df[df.contbr_st.isin(states)]\n",
    "\n"
   ]
  },
  {
   "cell_type": "code",
   "execution_count": 31,
   "metadata": {
    "collapsed": false
   },
   "outputs": [
    {
     "data": {
      "image/png": "[encoded data removed]",
      "text/plain": [
       "<matplotlib.figure.Figure at 0x2a66d6610>"
      ]
     },
     "metadata": {},
     "output_type": "display_data"
    }
   ],
   "source": [
    "# Explore Candidates by quantity of contirbutions\n",
    "plt.figure(figsize=(20,5))\n",
    "OX = df.cand_nm.apply(lambda x: x.split(\",\")[0]).value_counts().index\n",
    "OY = df.cand_nm.value_counts()\n",
    "width = .35\n",
    "ind = np.arange(len(OY))\n",
    "plt.bar(ind, OY)\n",
    "plt.xticks(ind + width / 2, OX)\n",
    "\n",
    "plt.show()"
   ]
  },
  {
   "cell_type": "code",
   "execution_count": 38,
   "metadata": {
    "collapsed": false
   },
   "outputs": [
    {
     "data": {
      "text/plain": [
       "<matplotlib.axes._subplots.AxesSubplot at 0x1141596d0>"
      ]
     },
     "execution_count": 38,
     "metadata": {},
     "output_type": "execute_result"
    },
    {
     "data": {
      "image/png": "[encoded data removed]",
      "text/plain": [
       "<matplotlib.figure.Figure at 0x11463f350>"
      ]
     },
     "metadata": {},
     "output_type": "display_data"
    }
   ],
   "source": [
    "# Explore contribution Sizes via histogram\n",
    "\n",
    "df = df[(df.contbr_receipt_amt > 0) & (df.contbr_receipt_amt < 3000)] # Remove negative and false large contributions\n",
    "df.contbr_receipt_amt.plot(kind='hist', alpha=1,bins=40,figsize=(10,5))\n",
    "\n",
    "# Most contributions are smaller than $100.  A bump exists at $2600 since that is the legal limit. "
   ]
  },
  {
   "cell_type": "code",
   "execution_count": 9,
   "metadata": {
    "collapsed": false
   },
   "outputs": [
    {
     "data": {
      "image/png": "[encoded data removed]",
      "text/plain": [
       "<matplotlib.figure.Figure at 0x11a3cd7d0>"
      ]
     },
     "metadata": {},
     "output_type": "display_data"
    }
   ],
   "source": [
    "# Explore quantity of contributions by states\n",
    "plt.figure(figsize=(20,5))\n",
    "OX = df.contbr_st.value_counts().index\n",
    "\n",
    "OY = df.contbr_st.value_counts()\n",
    "width = .35\n",
    "ind = np.arange(len(OY))\n",
    "plt.bar(ind, OY)\n",
    "plt.xticks(ind + width / 2, OX)\n",
    "\n",
    "\n",
    "plt.show()\n"
   ]
  },
  {
   "cell_type": "code",
   "execution_count": 45,
   "metadata": {
    "collapsed": false
   },
   "outputs": [],
   "source": [
    "# Add first name column\n",
    "\n",
    "def extract_first_name(data):\n",
    "    x = data.split(\",\")\n",
    "    if len(x) == 1:\n",
    "        return x[0].split(\" \")[0]\n",
    "    x2 = x[1].split(\" \")\n",
    "    if len(x2) == 1:\n",
    "        return x2[0]\n",
    "    return x2[1]\n",
    "\n",
    "df[\"first_name\"] = df[\"contbr_nm\"].apply(extract_first_name)\n",
    "\n",
    "# Add  weekday column (removed)\n",
    "\n",
    "def get_weekday_from_datestring(data):\n",
    "    return datetime.datetime.strptime(data, \"%d-%b-%y\").weekday()\n",
    "\n",
    "# df[\"weekday\"] = df[\"contbr_contb_receipt_dt\"].apply(get_weekday_from_datestring)\n"
   ]
  },
  {
   "cell_type": "code",
   "execution_count": 68,
   "metadata": {
    "collapsed": false
   },
   "outputs": [
    {
     "data": {
      "text/plain": [
       "array(['Bush, Jeb', 'Carson, Benjamin S.', 'Christie, Christopher J.',\n",
       "       'Clinton, Hillary Rodham', \"Cruz, Rafael Edward 'Ted'\",\n",
       "       'Fiorina, Carly', 'Graham, Lindsey O.', 'Huckabee, Mike',\n",
       "       'Jindal, Bobby', 'Kasich, John R.', 'Lessig, Lawrence',\n",
       "       \"O'Malley, Martin Joseph\", 'Pataki, George E.', 'Paul, Rand',\n",
       "       'Perry, James R. (Rick)', 'Rubio, Marco', 'Sanders, Bernard',\n",
       "       'Santorum, Richard J.', 'Stein, Jill', 'Trump, Donald J.',\n",
       "       'Walker, Scott', 'Webb, James Henry Jr.'], dtype=object)"
      ]
     },
     "execution_count": 68,
     "metadata": {},
     "output_type": "execute_result"
    }
   ],
   "source": [
    "# Map Candidate to label\n",
    "\n",
    "le = LabelEncoder()\n",
    "le.fit(df['cand_nm'])\n",
    "df['cand_nm_label'] = le.transform(df['cand_nm'])\n",
    "le.classes_\n"
   ]
  },
  {
   "cell_type": "code",
   "execution_count": 47,
   "metadata": {
    "collapsed": false
   },
   "outputs": [
    {
     "name": "stdout",
     "output_type": "stream",
     "text": [
      "Common Names:\n",
      "['AARON', 'ADAM', 'ALAN', 'ALBERT', 'ALEX', 'ALEXANDER', 'ALICE', 'ALLEN', 'AMY', 'ANDREA', 'ANDREW', 'ANGELA', 'ANN', 'ANNA', 'ANNE', 'ANTHONY', 'ARTHUR', 'BARBARA', 'BARRY', 'BEN', 'BENJAMIN', 'BETH', 'BETTY', 'BEVERLY', 'BILL', 'BOB', 'BONNIE', 'BRENDA', 'BRIAN', 'BRUCE', 'BRYAN', 'CARL', 'CAROL', 'CAROLE', 'CAROLYN', 'CATHERINE', 'CATHY', 'CHARLES', 'CHARLOTTE', 'CHERYL', 'CHRIS', 'CHRISTINE', 'CHRISTOPHER', 'CONNIE', 'CRAIG', 'CYNTHIA', 'DALE', 'DAN', 'DANA', 'DANIEL', 'DAVID', 'DAWN', 'DEAN', 'DEBORAH', 'DEBRA', 'DENISE', 'DENNIS', 'DIANA', 'DIANE', 'DIANNE', 'DON', 'DONALD', 'DONNA', 'DORIS', 'DOROTHY', 'DOUG', 'DOUGLAS', 'ED', 'EDWARD', 'EDWIN', 'EILEEN', 'ELAINE', 'ELEANOR', 'ELIZABETH', 'ELLEN', 'EMILY', 'ERIC', 'EUGENE', 'EVELYN', 'FRANCES', 'FRANCIS', 'FRANK', 'FRED', 'FREDERICK', 'GAIL', 'GARY', 'GENE', 'GEORGE', 'GERALD', 'GLENN', 'GLORIA', 'GORDON', 'GREG', 'GREGORY', 'HAROLD', 'HARRY', 'HEATHER', 'HELEN', 'HENRY', 'HOWARD', 'J.', 'JACK', 'JACQUELINE', 'JAMES', 'JAN', 'JANE', 'JANET', 'JANICE', 'JASON', 'JAY', 'JEAN', 'JEANNE', 'JEFF', 'JEFFREY', 'JENNIFER', 'JERRY', 'JESSICA', 'JILL', 'JIM', 'JOAN', 'JOANNE', 'JOE', 'JOEL', 'JOHN', 'JON', 'JONATHAN', 'JOSEPH', 'JOSHUA', 'JOYCE', 'JUDITH', 'JUDY', 'JULIA', 'JULIE', 'JUSTIN', 'KAREN', 'KATHERINE', 'KATHLEEN', 'KATHRYN', 'KATHY', 'KAY', 'KEITH', 'KELLY', 'KEN', 'KENNETH', 'KEVIN', 'KIM', 'KIMBERLY', 'LARRY', 'LAURA', 'LAURIE', 'LAWRENCE', 'LEE', 'LEONARD', 'LESLIE', 'LINDA', 'LISA', 'LOIS', 'LORI', 'LOUIS', 'LOUISE', 'LYNN', 'MARC', 'MARCIA', 'MARGARET', 'MARIA', 'MARIE', 'MARILYN', 'MARJORIE', 'MARK', 'MARTHA', 'MARTIN', 'MARY', 'MATT', 'MATTHEW', 'MAUREEN', 'MELISSA', 'MICHAEL', 'MICHELE', 'MICHELLE', 'MIKE', 'NANCY', 'NICHOLAS', 'NORMA', 'NORMAN', 'PAMELA', 'PAT', 'PATRICIA', 'PATRICK', 'PAUL', 'PAULA', 'PEGGY', 'PETER', 'PHILIP', 'PHILLIP', 'PHYLLIS', 'RACHEL', 'RALPH', 'RANDALL', 'RANDY', 'RAY', 'RAYMOND', 'REBECCA', 'RICHARD', 'RICK', 'RITA', 'ROBERT', 'ROBIN', 'ROGER', 'RON', 'RONALD', 'ROY', 'RUSSELL', 'RUTH', 'RYAN', 'SALLY', 'SAM', 'SAMUEL', 'SANDRA', 'SARA', 'SARAH', 'SCOTT', 'SEAN', 'SHARON', 'SHEILA', 'SHIRLEY', 'STANLEY', 'STEPHANIE', 'STEPHEN', 'STEVE', 'STEVEN', 'SUE', 'SUSAN', 'SUZANNE', 'TERESA', 'TERRY', 'THERESA', 'THOMAS', 'TIM', 'TIMOTHY', 'TODD', 'TOM', 'VICKI', 'VICTORIA', 'VINCENT', 'VIRGINIA', 'WALTER', 'WARREN', 'WAYNE', 'WENDY', 'WILLIAM']\n",
      "Common Occupations:\n",
      "['ACCOUNT MANAGER', 'ACCOUNTANT', 'ACCOUNTING', 'ACTOR', 'ADJUNCT PROFESSOR', 'ADMINISTRATION', 'ADMINISTRATIVE ASSISTANT', 'ADMINISTRATOR', 'ADVERTISING', 'AIRLINE PILOT', 'ANALYST', 'ANESTHESIOLOGIST', 'ARCHITECT', 'ARTIST', 'ATTORNEY', 'AUTHOR', 'BANKER', 'BANKING', 'BOOKKEEPER', 'BROKER', 'BUILDER', 'BUSINESS', 'BUSINESS ANALYST', 'BUSINESS DEVELOPMENT', 'BUSINESS EXECUTIVE', 'BUSINESS MANAGER', 'BUSINESS OWNER', 'BUSINESSMAN', 'CAREGIVER', 'CARPENTER', 'CASHIER', 'CEO', 'CFO', 'CHAIRMAN', 'CHAIRMAN & CEO', 'CHEF', 'CHEMIST', 'CHIROPRACTOR', 'CIVIL ENGINEER', 'CLERGY', 'CLERICAL', 'CLERK', 'CLINICAL PSYCHOLOGIST', 'CLINICAL SOCIAL WORKER', 'COLLEGE PROFESSOR', 'COMMUNICATIONS', 'COMPUTER PROGRAMMER', 'CONSTRUCTION', 'CONSULTANT', 'CONSULTING', 'CONTRACTOR', 'CONTROLLER', 'COO', 'COUNSELOR', 'CPA', 'CREATIVE DIRECTOR', 'CRNA', 'CRUZ REN', 'CTO', 'CUSTOMER SERVICE', 'DATA ANALYST', 'DENTIST', 'DESIGNER', 'DEVELOPER', 'DIRECTOR', 'DISABLED', 'DOCTOR', 'DRIVER', 'ECONOMIST', 'EDITOR', 'EDUCATION', 'EDUCATOR', 'ELECTRICAL ENGINEER', 'ELECTRICIAN', 'ENGINEER', 'ENGINEERING', 'ENTREPRENEUR', 'ESTIMATOR', 'EXECUTIVE', 'EXECUTIVE ASSISTANT', 'EXECUTIVE DIRECTOR', 'EXECUTIVE VICE PRESIDENT', 'FACULTY', 'FARMER', 'FARMING', 'FILMMAKER', 'FINANCE', 'FINANCIAL ADVISOR', 'FINANCIAL ANALYST', 'FINANCIAL PLANNER', 'FINANCIAL SERVICES', 'FIREFIGHTER', 'FLIGHT ATTENDANT', 'FOUNDER', 'FUNDRAISER', 'GENERAL CONTRACTOR', 'GENERAL MANAGER', 'GEOLOGIST', 'GRADUATE STUDENT', 'GRAPHIC DESIGNER', 'HEALTH CARE', 'HEALTHCARE', 'HOMEMAKER', 'HOUSEWIFE', 'HUMAN RESOURCES', 'INFORMATION REQUESTED', 'INFORMATION REQUESTED PER BEST EFFORTS', 'INFORMATION TECHNOLOGY', 'INSTRUCTOR', 'INSURANCE', 'INSURANCE AGENT', 'INSURANCE BROKER', 'INSURANCE SALES', 'INTERIOR DESIGNER', 'INVESTMENT ADVISOR', 'INVESTMENT BANKER', 'INVESTMENTS', 'INVESTOR', 'IT', 'IT CONSULTANT', 'IT MANAGER', 'LABORER', 'LANDLORD', 'LAW ENFORCEMENT', 'LAW PROFESSOR', 'LAWYER', 'LECTURER', 'LEGAL ASSISTANT', 'LEGAL SECRETARY', 'LETTER CARRIER', 'LIBRARIAN', 'M.D.', 'MACHINIST', 'MAINTENANCE', 'MANAGEMENT', 'MANAGEMENT CONSULTANT', 'MANAGER', 'MANAGING DIRECTOR', 'MANAGING PARTNER', 'MANUFACTURING', 'MARKETING', 'MARKETING DIRECTOR', 'MARKETING MANAGER', 'MASSAGE THERAPIST', 'MD', 'MECHANIC', 'MECHANICAL ENGINEER', 'MEDICAL DOCTOR', 'MILITARY', 'MINISTER', 'MUSICIAN', 'NETWORK ENGINEER', 'NONE', 'NOT EMPLOYED', 'NURSE', 'NURSE PRACTITIONER', 'OCCUPATIONAL THERAPIST', 'OFFICE MANAGER', 'OPERATIONS MANAGER', 'OPTOMETRIST', 'OWNER', 'PAINTER', 'PARALEGAL', 'PARTNER', 'PASTOR', 'PEDIATRICIAN', 'PHARMACIST', 'PHOTOGRAPHER', 'PHYSICAL THERAPIST', 'PHYSICIAN', 'PHYSICIAN ASSISTANT', 'PHYSICIST', 'PILOT', 'PLUMBER', 'POLICE OFFICER', 'PORTFOLIO MANAGER', 'PRESIDENT', 'PRESIDENT & CEO', 'PRESIDENT/CEO', 'PRINCIPAL', 'PRODUCER', 'PRODUCT MANAGER', 'PROFESSOR', 'PROGRAM MANAGER', 'PROGRAMMER', 'PROJECT COORDINATOR', 'PROJECT MANAGER', 'PROPERTY MANAGEMENT', 'PROPERTY MANAGER', 'PSYCHIATRIST', 'PSYCHOLOGIST', 'PSYCHOTHERAPIST', 'PUBLIC RELATIONS', 'PUBLISHER', 'R.N.', 'RANCHER', 'REAL ESTATE', 'REAL ESTATE AGENT', 'REAL ESTATE APPRAISER', 'REAL ESTATE BROKER', 'REAL ESTATE DEVELOPER', 'REAL ESTATE DEVELOPMENT', 'REAL ESTATE INVESTOR', 'REAL ESTATE SALES', 'REALTOR', 'RECRUITER', 'REFUSED', 'REGISTERED NURSE', 'RESEARCHER', 'RESTAURANT OWNER', 'RETAIL', 'RETIRED', 'RETIRED TEACHER', 'RN', 'SALES', 'SALES ASSOCIATE', 'SALES MANAGER', 'SALESMAN', 'SCIENTIST', 'SECRETARY', 'SELF', 'SELF EMPLOYED', 'SELF-EMPLOYED', 'SENIOR VICE PRESIDENT', 'SERVER', 'SMALL BUSINESS OWNER', 'SOCIAL WORKER', 'SOFTWARE', 'SOFTWARE ARCHITECT', 'SOFTWARE DEVELOPER', 'SOFTWARE ENGINEER', 'STRATEGIST', 'STUDENT', 'SUBSTITUTE TEACHER', 'SUPERVISOR', 'SURGEON', 'SYSTEMS ANALYST', 'SYSTEMS ENGINEER', 'TEACHER', 'TECHNICAL WRITER', 'TECHNICIAN', 'THERAPIST', 'TRUCK DRIVER', 'UNEMPLOYED', 'VETERINARIAN', 'VICE PRESIDENT', 'VOLUNTEER', 'VP', 'WEB DEVELOPER', 'WRITER']\n"
     ]
    }
   ],
   "source": [
    "# Since names, states, and occupations are categorical, they must be replaced with dummy columns. \n",
    "# To prevent 1000's of dummy columns for names and occupations, only take top 250 most common of each\n",
    "\n",
    "common_names = df['first_name'].value_counts()[:250].index.tolist()\n",
    "common_occupations = df['contbr_occ'].value_counts()[:250].index.tolist()\n",
    "\n",
    "print \"Common Names:\"\n",
    "print sorted(common_names)\n",
    "print \"Common Occupations:\"\n",
    "print sorted(common_occupations)\n"
   ]
  },
  {
   "cell_type": "code",
   "execution_count": 48,
   "metadata": {
    "collapsed": false
   },
   "outputs": [
    {
     "data": {
      "text/html": [
       "<div>\n",
       "<table border=\"1\" class=\"dataframe\">\n",
       "  <thead>\n",
       "    <tr style=\"text-align: right;\">\n",
       "      <th></th>\n",
       "      <th>cand_nm</th>\n",
       "      <th>contbr_nm</th>\n",
       "      <th>contbr_st</th>\n",
       "      <th>contbr_zip</th>\n",
       "      <th>contbr_receipt_amt</th>\n",
       "      <th>contbr_occ</th>\n",
       "      <th>cand_nm_label</th>\n",
       "      <th>first_name</th>\n",
       "    </tr>\n",
       "  </thead>\n",
       "  <tbody>\n",
       "    <tr>\n",
       "      <th>4</th>\n",
       "      <td>Rubio, Marco</td>\n",
       "      <td>VERHAGEN, JOSH</td>\n",
       "      <td>AK</td>\n",
       "      <td>997600113</td>\n",
       "      <td>25</td>\n",
       "      <td>CARPENTER</td>\n",
       "      <td>15</td>\n",
       "      <td>NaN</td>\n",
       "    </tr>\n",
       "    <tr>\n",
       "      <th>5</th>\n",
       "      <td>Rubio, Marco</td>\n",
       "      <td>VERHAGEN, JOSH</td>\n",
       "      <td>AK</td>\n",
       "      <td>997600113</td>\n",
       "      <td>17</td>\n",
       "      <td>CARPENTER</td>\n",
       "      <td>15</td>\n",
       "      <td>NaN</td>\n",
       "    </tr>\n",
       "    <tr>\n",
       "      <th>6</th>\n",
       "      <td>Rubio, Marco</td>\n",
       "      <td>VERHAGEN, JOSH</td>\n",
       "      <td>AK</td>\n",
       "      <td>997600113</td>\n",
       "      <td>25</td>\n",
       "      <td>CARPENTER</td>\n",
       "      <td>15</td>\n",
       "      <td>NaN</td>\n",
       "    </tr>\n",
       "    <tr>\n",
       "      <th>7</th>\n",
       "      <td>Rubio, Marco</td>\n",
       "      <td>HINES, SCOT</td>\n",
       "      <td>AK</td>\n",
       "      <td>995165437</td>\n",
       "      <td>100</td>\n",
       "      <td>HEALTH CARE</td>\n",
       "      <td>15</td>\n",
       "      <td>NaN</td>\n",
       "    </tr>\n",
       "    <tr>\n",
       "      <th>8</th>\n",
       "      <td>Rubio, Marco</td>\n",
       "      <td>HINES, SCOT</td>\n",
       "      <td>AK</td>\n",
       "      <td>995165437</td>\n",
       "      <td>100</td>\n",
       "      <td>HEALTH CARE</td>\n",
       "      <td>15</td>\n",
       "      <td>NaN</td>\n",
       "    </tr>\n",
       "    <tr>\n",
       "      <th>9</th>\n",
       "      <td>Rubio, Marco</td>\n",
       "      <td>HINES, SCOT</td>\n",
       "      <td>AK</td>\n",
       "      <td>995165437</td>\n",
       "      <td>100</td>\n",
       "      <td>HEALTH CARE</td>\n",
       "      <td>15</td>\n",
       "      <td>NaN</td>\n",
       "    </tr>\n",
       "    <tr>\n",
       "      <th>10</th>\n",
       "      <td>Rubio, Marco</td>\n",
       "      <td>JANELLI, REBECCA T</td>\n",
       "      <td>AK</td>\n",
       "      <td>995076742</td>\n",
       "      <td>100</td>\n",
       "      <td>RETIRED</td>\n",
       "      <td>15</td>\n",
       "      <td>REBECCA</td>\n",
       "    </tr>\n",
       "    <tr>\n",
       "      <th>11</th>\n",
       "      <td>Rubio, Marco</td>\n",
       "      <td>JANELLI, REBECCA T</td>\n",
       "      <td>AK</td>\n",
       "      <td>995076742</td>\n",
       "      <td>100</td>\n",
       "      <td>RETIRED</td>\n",
       "      <td>15</td>\n",
       "      <td>REBECCA</td>\n",
       "    </tr>\n",
       "    <tr>\n",
       "      <th>12</th>\n",
       "      <td>Rubio, Marco</td>\n",
       "      <td>JANELLI, REBECCA T</td>\n",
       "      <td>AK</td>\n",
       "      <td>995076742</td>\n",
       "      <td>100</td>\n",
       "      <td>RETIRED</td>\n",
       "      <td>15</td>\n",
       "      <td>REBECCA</td>\n",
       "    </tr>\n",
       "    <tr>\n",
       "      <th>13</th>\n",
       "      <td>Rubio, Marco</td>\n",
       "      <td>LEONARD, JOAN MS.</td>\n",
       "      <td>AK</td>\n",
       "      <td>997050258</td>\n",
       "      <td>25</td>\n",
       "      <td>RETIRED</td>\n",
       "      <td>15</td>\n",
       "      <td>JOAN</td>\n",
       "    </tr>\n",
       "  </tbody>\n",
       "</table>\n",
       "</div>"
      ],
      "text/plain": [
       "         cand_nm           contbr_nm contbr_st contbr_zip  contbr_receipt_amt  \\\n",
       "4   Rubio, Marco      VERHAGEN, JOSH        AK  997600113                  25   \n",
       "5   Rubio, Marco      VERHAGEN, JOSH        AK  997600113                  17   \n",
       "6   Rubio, Marco      VERHAGEN, JOSH        AK  997600113                  25   \n",
       "7   Rubio, Marco         HINES, SCOT        AK  995165437                 100   \n",
       "8   Rubio, Marco         HINES, SCOT        AK  995165437                 100   \n",
       "9   Rubio, Marco         HINES, SCOT        AK  995165437                 100   \n",
       "10  Rubio, Marco  JANELLI, REBECCA T        AK  995076742                 100   \n",
       "11  Rubio, Marco  JANELLI, REBECCA T        AK  995076742                 100   \n",
       "12  Rubio, Marco  JANELLI, REBECCA T        AK  995076742                 100   \n",
       "13  Rubio, Marco   LEONARD, JOAN MS.        AK  997050258                  25   \n",
       "\n",
       "     contbr_occ  cand_nm_label first_name  \n",
       "4     CARPENTER             15        NaN  \n",
       "5     CARPENTER             15        NaN  \n",
       "6     CARPENTER             15        NaN  \n",
       "7   HEALTH CARE             15        NaN  \n",
       "8   HEALTH CARE             15        NaN  \n",
       "9   HEALTH CARE             15        NaN  \n",
       "10      RETIRED             15    REBECCA  \n",
       "11      RETIRED             15    REBECCA  \n",
       "12      RETIRED             15    REBECCA  \n",
       "13      RETIRED             15       JOAN  "
      ]
     },
     "execution_count": 48,
     "metadata": {},
     "output_type": "execute_result"
    }
   ],
   "source": [
    "# Values for name and occupation that are not common are made null\n",
    "df['first_name'] = df['first_name'].apply(lambda x: x if x in common_names else np.nan)\n",
    "df['contbr_occ'] = df['contbr_occ'].apply(lambda x: x if x in common_occupations else np.nan)\n",
    "df.head(10)"
   ]
  },
  {
   "cell_type": "code",
   "execution_count": 49,
   "metadata": {
    "collapsed": false
   },
   "outputs": [],
   "source": [
    "# Make dummy columns for first name, state, and occupation\n",
    "first_name_dummies = pd.get_dummies(df['first_name'],prefix='n_')\n",
    "contbr_st_dummies = pd.get_dummies(df['contbr_st'],prefix='s_')\n",
    "contbr_occ_dummies = pd.get_dummies(df['contbr_occ'],prefix='o_')\n",
    "\n",
    "df = pd.concat([df, first_name_dummies ,contbr_st_dummies,contbr_occ_dummies], axis=1)"
   ]
  },
  {
   "cell_type": "code",
   "execution_count": 50,
   "metadata": {
    "collapsed": false
   },
   "outputs": [
    {
     "data": {
      "text/plain": [
       "(860598, 558)"
      ]
     },
     "execution_count": 50,
     "metadata": {},
     "output_type": "execute_result"
    }
   ],
   "source": [
    "df.shape \n",
    "#558 Columns (250 from dummy names, 250 from dummy occs, 50 states, 8 extras)"
   ]
  },
  {
   "cell_type": "code",
   "execution_count": 65,
   "metadata": {
    "collapsed": false
   },
   "outputs": [],
   "source": [
    "# Build final X and y\n",
    "y = df.cand_nm_label\n",
    "\n",
    "X_columns = ['contbr_receipt_amt'] \\\n",
    "+ list(contbr_occ_dummies.columns.values) \\\n",
    "+ list(contbr_st_dummies.columns.values) \\\n",
    "+ list(first_name_dummies.columns.values)\n",
    "\n",
    "X =df[X_columns]\n"
   ]
  },
  {
   "cell_type": "code",
   "execution_count": 66,
   "metadata": {
    "collapsed": false
   },
   "outputs": [
    {
     "data": {
      "text/plain": [
       "RandomForestClassifier(bootstrap=True, class_weight=None, criterion='gini',\n",
       "            max_depth=None, max_features='auto', max_leaf_nodes=None,\n",
       "            min_samples_leaf=1, min_samples_split=2,\n",
       "            min_weight_fraction_leaf=0.0, n_estimators=5, n_jobs=-1,\n",
       "            oob_score=False, random_state=None, verbose=0,\n",
       "            warm_start=False)"
      ]
     },
     "execution_count": 66,
     "metadata": {},
     "output_type": "execute_result"
    }
   ],
   "source": [
    "# Split data into train and test and train RFC on training data\n",
    "\n",
    "X_train, X_test, y_train, y_test = train_test_split(X, y, test_size=0.33)\n",
    "rfc = RandomForestClassifier(n_estimators=5,n_jobs=-1)\n",
    "rfc.fit(X_train,y_train)\n"
   ]
  },
  {
   "cell_type": "code",
   "execution_count": null,
   "metadata": {
    "collapsed": false
   },
   "outputs": [],
   "source": [
    "# Run GridSearch within training set to pick optimal hyperparamters\n",
    "rfc_pipeline = Pipeline([('clf', RandomForestClassifier(n_estimators=5))])\n",
    "rfc_parameters = {'clf__bootstrap':[True,False],\n",
    "                'clf__class_weight' : [None,\"balanced\"]\n",
    "                 }\n",
    "\n",
    "rfc_gs = GridSearchCV(rfc_pipeline, rfc_parameters,cv=KFold(n = len(X_train), n_folds=3,shuffle=True,random_state=42), n_jobs=-1)\n",
    "\n",
    "# Fit the training data to the learner\n",
    "rfc_gs = rfc_gs.fit(X_train,y_train)\n",
    "rfc_gs.best_params_\n"
   ]
  },
  {
   "cell_type": "code",
   "execution_count": 83,
   "metadata": {
    "collapsed": false
   },
   "outputs": [
    {
     "data": {
      "text/plain": [
       "{'clf__bootstrap': False}"
      ]
     },
     "execution_count": 83,
     "metadata": {},
     "output_type": "execute_result"
    }
   ],
   "source": []
  },
  {
   "cell_type": "code",
   "execution_count": 84,
   "metadata": {
    "collapsed": false
   },
   "outputs": [
    {
     "data": {
      "text/plain": [
       "0.62337410826836803"
      ]
     },
     "execution_count": 84,
     "metadata": {},
     "output_type": "execute_result"
    }
   ],
   "source": [
    "# Report Score\n",
    "rfc_gs.score(X_test,y_test)\n",
    "\n",
    "################################\n",
    "# Variation Scores:\n",
    "################################\n",
    "# Score with State, First Name, Occ, Amount Donated ~55\n",
    "# Score Without Amount Donated ~52\n",
    "# Score without First Name ~48\n",
    "# Score Without Occupation ~46\n",
    "# Score Without State ~44\n",
    "################################\n",
    "# Score With RFC with 100 estimators ~55\n",
    "# Score With RFC with 10 estimators ~54.5\n",
    "# Score With RFC with 5 estimators ~54.5\n",
    "# Score With RFC with 1 estimators ~50.6\n",
    "################################\n",
    "# Score With ONLY State ~33\n",
    "################################\n",
    "# Score With All Fields After Adding Day Of Week ~ 49 ???\n",
    "################################\n",
    "# Score WIth 250 dummy columns instead of 100 for both name and occupation - 59\n"
   ]
  },
  {
   "cell_type": "code",
   "execution_count": 20,
   "metadata": {
    "collapsed": false
   },
   "outputs": [
    {
     "data": {
      "text/plain": [
       "{'bootstrap': True,\n",
       " 'class_weight': None,\n",
       " 'criterion': 'gini',\n",
       " 'max_depth': None,\n",
       " 'max_features': 'auto',\n",
       " 'max_leaf_nodes': None,\n",
       " 'min_samples_leaf': 1,\n",
       " 'min_samples_split': 2,\n",
       " 'min_weight_fraction_leaf': 0.0,\n",
       " 'n_estimators': 5,\n",
       " 'n_jobs': -1,\n",
       " 'oob_score': False,\n",
       " 'random_state': None,\n",
       " 'verbose': 0,\n",
       " 'warm_start': False}"
      ]
     },
     "execution_count": 20,
     "metadata": {},
     "output_type": "execute_result"
    }
   ],
   "source": [
    "rfc.get_params()"
   ]
  },
  {
   "cell_type": "code",
   "execution_count": 21,
   "metadata": {
    "collapsed": false
   },
   "outputs": [
    {
     "data": {
      "text/plain": [
       "GridSearchCV(cv=3, error_score='raise',\n",
       "       estimator=RandomForestClassifier(bootstrap=True, class_weight=None, criterion='gini',\n",
       "            max_depth=None, max_features='auto', max_leaf_nodes=None,\n",
       "            min_samples_leaf=1, min_samples_split=2,\n",
       "            min_weight_fraction_leaf=0.0, n_estimators=10, n_jobs=1,\n",
       "            oob_score=False, random_state=None, verbose=0,\n",
       "            warm_start=False),\n",
       "       fit_params={}, iid=True, n_jobs=-1,\n",
       "       param_grid={'n_estimators': [1, 2]}, pre_dispatch='2*n_jobs',\n",
       "       refit=True, scoring=None, verbose=0)"
      ]
     },
     "execution_count": 21,
     "metadata": {},
     "output_type": "execute_result"
    }
   ],
   "source": [
    "\n",
    "param_grid = {\n",
    "#                 \"max_depth\": [3, None],\n",
    "#               \"max_features\": [1, 3, 10],\n",
    "#               \"min_samples_split\": [1, 3, 10],\n",
    "#               \"min_samples_leaf\": [1, 3, 10],\n",
    "#               \"bootstrap\": [True, False],\n",
    "              \"n_estimators\": [1, 2]}\n",
    "gs = GridSearchCV(RandomForestClassifier(), param_grid=param_grid,cv=3,n_jobs=-1)\n",
    "gs.fit(X, y)\n",
    "# gs.score(X_test,y_test)\n",
    "\n",
    "#Other things to do.\n",
    "#1. add headers across the baord\n",
    "#2. clean grid search square\n",
    "#3. make function that transforms occupations\n",
    "#4 adjust plot at the top\n",
    "#5. new pickle"
   ]
  },
  {
   "cell_type": "code",
   "execution_count": 22,
   "metadata": {
    "collapsed": false
   },
   "outputs": [
    {
     "data": {
      "text/plain": [
       "{'cv': 3,\n",
       " 'error_score': 'raise',\n",
       " 'estimator': RandomForestClassifier(bootstrap=True, class_weight=None, criterion='gini',\n",
       "             max_depth=None, max_features='auto', max_leaf_nodes=None,\n",
       "             min_samples_leaf=1, min_samples_split=2,\n",
       "             min_weight_fraction_leaf=0.0, n_estimators=10, n_jobs=1,\n",
       "             oob_score=False, random_state=None, verbose=0,\n",
       "             warm_start=False),\n",
       " 'estimator__bootstrap': True,\n",
       " 'estimator__class_weight': None,\n",
       " 'estimator__criterion': 'gini',\n",
       " 'estimator__max_depth': None,\n",
       " 'estimator__max_features': 'auto',\n",
       " 'estimator__max_leaf_nodes': None,\n",
       " 'estimator__min_samples_leaf': 1,\n",
       " 'estimator__min_samples_split': 2,\n",
       " 'estimator__min_weight_fraction_leaf': 0.0,\n",
       " 'estimator__n_estimators': 10,\n",
       " 'estimator__n_jobs': 1,\n",
       " 'estimator__oob_score': False,\n",
       " 'estimator__random_state': None,\n",
       " 'estimator__verbose': 0,\n",
       " 'estimator__warm_start': False,\n",
       " 'fit_params': {},\n",
       " 'iid': True,\n",
       " 'n_jobs': -1,\n",
       " 'param_grid': {'n_estimators': [1, 2]},\n",
       " 'pre_dispatch': '2*n_jobs',\n",
       " 'refit': True,\n",
       " 'scoring': None,\n",
       " 'verbose': 0}"
      ]
     },
     "execution_count": 22,
     "metadata": {},
     "output_type": "execute_result"
    }
   ],
   "source": [
    "gs.get_params()"
   ]
  },
  {
   "cell_type": "code",
   "execution_count": 23,
   "metadata": {
    "collapsed": false
   },
   "outputs": [
    {
     "name": "stdout",
     "output_type": "stream",
     "text": [
      "[mean: 0.28599, std: 0.06977, params: {'n_estimators': 1}, mean: 0.27280, std: 0.07082, params: {'n_estimators': 2}]\n",
      "RandomForestClassifier(bootstrap=True, class_weight=None, criterion='gini',\n",
      "            max_depth=None, max_features='auto', max_leaf_nodes=None,\n",
      "            min_samples_leaf=1, min_samples_split=2,\n",
      "            min_weight_fraction_leaf=0.0, n_estimators=1, n_jobs=1,\n",
      "            oob_score=False, random_state=None, verbose=0,\n",
      "            warm_start=False)\n",
      "0.285991828945\n"
     ]
    }
   ],
   "source": [
    "print gs.grid_scores_\n",
    "print gs.best_estimator_\n",
    "print gs.best_score_\n",
    "\n"
   ]
  },
  {
   "cell_type": "code",
   "execution_count": 24,
   "metadata": {
    "collapsed": false
   },
   "outputs": [
    {
     "name": "stdout",
     "output_type": "stream",
     "text": [
      "('Accuracy Score:', 0.26956198546765531)\n"
     ]
    }
   ],
   "source": [
    "# Dummy Score\n",
    "\n",
    "dumb = DummyClassifier(strategy='most_frequent') # also try with 'stratified'\n",
    "dumb.fit(X_train, y_train)\n",
    "y_dumb_class = dumb.predict(X_test) #X_test[:,None]\n",
    "\n",
    "print ('Accuracy Score:', accuracy_score(y_test, y_dumb_class))"
   ]
  },
  {
   "cell_type": "code",
   "execution_count": 25,
   "metadata": {
    "collapsed": false
   },
   "outputs": [
    {
     "data": {
      "text/plain": [
       "RandomForestClassifier(bootstrap=True, class_weight=None, criterion='gini',\n",
       "            max_depth=None, max_features='auto', max_leaf_nodes=None,\n",
       "            min_samples_leaf=1, min_samples_split=2,\n",
       "            min_weight_fraction_leaf=0.0, n_estimators=5, n_jobs=-1,\n",
       "            oob_score=False, random_state=None, verbose=0,\n",
       "            warm_start=False)"
      ]
     },
     "execution_count": 25,
     "metadata": {},
     "output_type": "execute_result"
    }
   ],
   "source": [
    "# Refit with entire dataset\n",
    "rfc.fit(X,y)"
   ]
  },
  {
   "cell_type": "code",
   "execution_count": 26,
   "metadata": {
    "collapsed": false
   },
   "outputs": [],
   "source": [
    "def format_prediction(name,state,occupation,howmuch):\n",
    "    formatted  = np.zeros(551)\n",
    "    formatted[0] = howmuch\n",
    "    \n",
    "    name_col = \"n__\" +  name\n",
    "    occupation_col = \"o__\" +  occupation\n",
    "    state_col = \"s__\" +  state\n",
    "    if name_col in list(X.columns.values):\n",
    "        name_dummy = list(X.columns.values).index(name_col)\n",
    "        formatted[name_dummy] = 1\n",
    "    if name_col in list(X.columns.values):\n",
    "        occupation_dummy = list(X.columns.values).index(occupation_col)\n",
    "        formatted[occupation_dummy] = 1\n",
    "    if state_col in list(X.columns.values):\n",
    "        state_dummy = list(X.columns.values).index(state_col)\n",
    "        formatted[state_dummy] = 1          \n",
    "    \n",
    "    return formatted"
   ]
  },
  {
   "cell_type": "code",
   "execution_count": 27,
   "metadata": {
    "collapsed": false
   },
   "outputs": [
    {
     "ename": "SyntaxError",
     "evalue": "invalid syntax (<ipython-input-27-2ce279009ddd>, line 14)",
     "output_type": "error",
     "traceback": [
      "\u001b[0;36m  File \u001b[0;32m\"<ipython-input-27-2ce279009ddd>\"\u001b[0;36m, line \u001b[0;32m14\u001b[0m\n\u001b[0;31m    details_5 = format_prediction(\"JANE\",\"FL\",\"R.N.\",1000)]\u001b[0m\n\u001b[0m                                                          ^\u001b[0m\n\u001b[0;31mSyntaxError\u001b[0m\u001b[0;31m:\u001b[0m invalid syntax\n"
     ]
    }
   ],
   "source": [
    "print \"*\"*50 \n",
    "details_1 = [format_prediction(\"JOHN\",\"NY\",\"BANKER\",25)]\n",
    "details_2 = [format_prediction(\"JOHN\",\"NY\",\"STUDENT\",25)]\n",
    "print le.inverse_transform(rfc.predict(details_1))[0]\n",
    "print le.inverse_transform(rfc.predict(details_2))[0]\n",
    "print \"*\"*50\n",
    "\n",
    "details_3 = [format_prediction(\"BILL\",\"TX\",\"VICE PRESIDENT\",2600)]\n",
    "details_4 = [format_prediction(\"ANN\",\"TX\",\"VICE PRESIDENT\",2600)]\n",
    "print le.inverse_transform(rfc.predict(details_3))[0]\n",
    "print le.inverse_transform(rfc.predict(details_4))[0]\n",
    "print \"*\"*50\n",
    "\n",
    "details_5 = format_prediction(\"JANE\",\"FL\",\"R.N.\",1000)]\n",
    "details_6 = format_prediction(\"JANE\",\"FL\",\"R.N.\",10)\n",
    "print le.inverse_transform(rfc.predict(details_5))[0]\n",
    "print le.inverse_transform(rfc.predict(details_6))[0]\n",
    "print \"*\"*50\n",
    "\n",
    "details_7 = format_prediction(\"LAURA\",\"IL\",\"BANKER\",50)\n",
    "details_8 = format_prediction(\"LAURA\",\"VT\",\"BANKER\",50)\n",
    "print le.inverse_transform(rfc.predict(details_7))[0]\n",
    "print le.inverse_transform(rfc.predict(details_8))[0]\n",
    "print \"*\"*50\n",
    "\n"
   ]
  },
  {
   "cell_type": "code",
   "execution_count": null,
   "metadata": {
    "collapsed": false
   },
   "outputs": [],
   "source": [
    "# Get all the percentages for a given prediction\n",
    "cands = le.inverse_transform(rfc.classes_)\n",
    "details_test= format_prediction(\"LAURA\",\"VT\",\"BANKER\",50)\n",
    "print le.inverse_transform(rfc.predict(details_test))[0]\n",
    "[cands[i]+\": \" +str(p) for i,p in enumerate(rfc.predict_proba(details_test)[0])]"
   ]
  },
  {
   "cell_type": "code",
   "execution_count": null,
   "metadata": {
    "collapsed": true
   },
   "outputs": [],
   "source": [
    "Dump to pickle:\n",
    "    \n",
    "# pickle.dump(rfc,open(\"rfc.pkl\",\"wb\"))"
   ]
  },
  {
   "cell_type": "code",
   "execution_count": null,
   "metadata": {
    "collapsed": true
   },
   "outputs": [],
   "source": []
  }
 ],
 "metadata": {
  "kernelspec": {
   "display_name": "Python 2",
   "language": "python",
   "name": "python2"
  },
  "language_info": {
   "codemirror_mode": {
    "name": "ipython",
    "version": 2
   },
   "file_extension": ".py",
   "mimetype": "text/x-python",
   "name": "python",
   "nbconvert_exporter": "python",
   "pygments_lexer": "ipython2",
   "version": "2.7.11"
  }
 },
 "nbformat": 4,
 "nbformat_minor": 0
}
